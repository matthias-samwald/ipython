{
 "metadata": {
  "name": ""
 },
 "nbformat": 3,
 "nbformat_minor": 0,
 "worksheets": [
  {
   "cells": [
    {
     "cell_type": "code",
     "collapsed": false,
     "input": [
      "import rdflib\n",
      "import os\n",
      "from rdflib import URIRef, BNode, Literal\n",
      "from rdflib.namespace import Namespace, NamespaceManager, RDF, FOAF, RDFS, OWL\n",
      "from rdflib.plugins.sparql import prepareQuery\n",
      "import glob\n",
      "import urllib.parse as urlparse\n",
      "import urllib.request as urllib\n",
      "\n",
      "namespace_manager = NamespaceManager(rdflib.Graph())\n",
      "namespace_manager.bind('foaf', FOAF, override=False)\n",
      "namespace_manager.bind('sesame', Namespace('http://www.openrdf.org/schema/sesame#'), override=False)\n",
      "namespace_manager.bind('ra', Namespace('http://bio2rdf.org/ra.challenge_vocabulary:'), override=False)\n",
      "\n",
      "endpoint = 'http://localhost:8080/openrdf-sesame/repositories/synapse-challenge-2' # this is an RDF store (no inferencing)\n",
      "g = rdflib.ConjunctiveGraph('SPARQLUpdateStore', identifier='http://samwald.info/ont/') \n",
      "g.namespace_manager = namespace_manager\n",
      "\n",
      "g.open((endpoint, endpoint + '/statements')) # endpoint, SPARQL Update endpoint"
     ],
     "language": "python",
     "metadata": {},
     "outputs": [],
     "prompt_number": 21
    },
    {
     "cell_type": "code",
     "collapsed": false,
     "input": [
      "for f in glob.glob('rheumatoid-arthritis/rdf-data/*.*'):\n",
      "    path =  os.path.realpath(f)\n",
      "    print('Loading', path)\n",
      "    # g.load(f, format=rdflib.util.guess_format(f))    # ... this turns out to be too slow, because rdflib parses everything\n",
      "    g.update(\"LOAD <\" +  urlparse.urljoin('file:', urllib.pathname2url(path)) + \"> INTO GRAPH <tag:samwald.info:base_data>\")    # this is much faster, yay!"
     ],
     "language": "python",
     "metadata": {},
     "outputs": [
      {
       "output_type": "stream",
       "stream": "stdout",
       "text": [
        "Loading C:\\Users\\polygonfenster\\Documents\\Workspace\\ipython\\py\\rheumatoid-arthritis\\rdf-data\\ra.cov.nt\n",
        "Loading"
       ]
      },
      {
       "output_type": "stream",
       "stream": "stdout",
       "text": [
        " C:\\Users\\polygonfenster\\Documents\\Workspace\\ipython\\py\\rheumatoid-arthritis\\rdf-data\\ra.dosage.1.nt\n",
        "Loading"
       ]
      },
      {
       "output_type": "stream",
       "stream": "stdout",
       "text": [
        " C:\\Users\\polygonfenster\\Documents\\Workspace\\ipython\\py\\rheumatoid-arthritis\\rdf-data\\ra.dosage.10.nt\n",
        "Loading"
       ]
      },
      {
       "output_type": "stream",
       "stream": "stdout",
       "text": [
        " C:\\Users\\polygonfenster\\Documents\\Workspace\\ipython\\py\\rheumatoid-arthritis\\rdf-data\\ra.dosage.11.nt\n",
        "Loading"
       ]
      },
      {
       "output_type": "stream",
       "stream": "stdout",
       "text": [
        " C:\\Users\\polygonfenster\\Documents\\Workspace\\ipython\\py\\rheumatoid-arthritis\\rdf-data\\ra.dosage.15.nt\n",
        "Loading"
       ]
      },
      {
       "output_type": "stream",
       "stream": "stdout",
       "text": [
        " C:\\Users\\polygonfenster\\Documents\\Workspace\\ipython\\py\\rheumatoid-arthritis\\rdf-data\\ra.dosage.16.nt\n",
        "Loading"
       ]
      },
      {
       "output_type": "stream",
       "stream": "stdout",
       "text": [
        " C:\\Users\\polygonfenster\\Documents\\Workspace\\ipython\\py\\rheumatoid-arthritis\\rdf-data\\ra.dosage.17.nt\n",
        "Loading"
       ]
      },
      {
       "output_type": "stream",
       "stream": "stdout",
       "text": [
        " C:\\Users\\polygonfenster\\Documents\\Workspace\\ipython\\py\\rheumatoid-arthritis\\rdf-data\\ra.dosage.2.nt\n",
        "Loading"
       ]
      },
      {
       "output_type": "stream",
       "stream": "stdout",
       "text": [
        " C:\\Users\\polygonfenster\\Documents\\Workspace\\ipython\\py\\rheumatoid-arthritis\\rdf-data\\ra.dosage.20.nt\n",
        "Loading"
       ]
      },
      {
       "output_type": "stream",
       "stream": "stdout",
       "text": [
        " C:\\Users\\polygonfenster\\Documents\\Workspace\\ipython\\py\\rheumatoid-arthritis\\rdf-data\\ra.dosage.21.nt\n",
        "Loading"
       ]
      },
      {
       "output_type": "stream",
       "stream": "stdout",
       "text": [
        " C:\\Users\\polygonfenster\\Documents\\Workspace\\ipython\\py\\rheumatoid-arthritis\\rdf-data\\ra.dosage.5.nt\n",
        "Loading"
       ]
      },
      {
       "output_type": "stream",
       "stream": "stdout",
       "text": [
        " C:\\Users\\polygonfenster\\Documents\\Workspace\\ipython\\py\\rheumatoid-arthritis\\rdf-data\\ra.dosage.6.nt\n",
        "Loading"
       ]
      },
      {
       "output_type": "stream",
       "stream": "stdout",
       "text": [
        " C:\\Users\\polygonfenster\\Documents\\Workspace\\ipython\\py\\rheumatoid-arthritis\\rdf-data\\ra.dosage.7.nt\n",
        "Loading"
       ]
      },
      {
       "output_type": "stream",
       "stream": "stdout",
       "text": [
        " C:\\Users\\polygonfenster\\Documents\\Workspace\\ipython\\py\\rheumatoid-arthritis\\rdf-data\\ra.dosage.9.nt\n",
        "Loading"
       ]
      },
      {
       "output_type": "stream",
       "stream": "stdout",
       "text": [
        " C:\\Users\\polygonfenster\\Documents\\Workspace\\ipython\\py\\rheumatoid-arthritis\\rdf-data\\ra.schema.ttl\n"
       ]
      }
     ],
     "prompt_number": 64
    },
    {
     "cell_type": "heading",
     "level": 2,
     "metadata": {},
     "source": [
      "Basic statistics"
     ]
    },
    {
     "cell_type": "heading",
     "level": 5,
     "metadata": {},
     "source": [
      "Property vs. total number of triples using the property"
     ]
    },
    {
     "cell_type": "code",
     "collapsed": false,
     "input": [
      "for row in g.query('SELECT ?p (COUNT(DISTINCT(?s)) AS ?count ) { ?s ?p ?o } GROUP BY ?p ORDER BY DESC(?count)'):\n",
      "    print(row['p'], row['count'])"
     ],
     "language": "python",
     "metadata": {},
     "outputs": [
      {
       "output_type": "stream",
       "stream": "stdout",
       "text": [
        "http://bio2rdf.org/ra.challenge_vocabulary:drug 2706\n",
        "http://bio2rdf.org/ra.challenge_vocabulary:age 2706\n",
        "http://bio2rdf.org/ra.challenge_vocabulary:gender 2706\n",
        "http://bio2rdf.org/ra.challenge_vocabulary:methotrexate-cotherapy 2706\n",
        "http://bio2rdf.org/ra.challenge_vocabulary:has-two 2706\n",
        "http://www.w3.org/1999/02/22-rdf-syntax-ns#type 2133\n",
        "http://www.w3.org/2000/01/rdf-schema#label 2042\n",
        "http://bio2rdf.org/ra.challenge_vocabulary:non-responder 2031\n",
        "http://bio2rdf.org/ra.challenge_vocabulary:has-one 982\n",
        "http://www.w3.org/1999/02/22-rdf-syntax-ns#first 37\n",
        "http://www.w3.org/1999/02/22-rdf-syntax-ns#rest 37\n",
        "http://www.w3.org/2000/01/rdf-schema#subClassOf 27\n",
        "http://www.w3.org/2000/01/rdf-schema#range 5\n",
        "http://www.w3.org/2000/01/rdf-schema#domain 3\n",
        "http://www.w3.org/2000/01/rdf-schema#subPropertyOf 2\n",
        "http://www.w3.org/2002/07/owl#members 2\n",
        "http://www.w3.org/2002/07/owl#distinctMembers 2\n",
        "http://www.w3.org/2002/07/owl#propertyDisjointWith 1\n",
        "http://www.w3.org/2002/07/owl#onProperty 1\n",
        "http://www.w3.org/2002/07/owl#someValuesFrom 1\n"
       ]
      }
     ],
     "prompt_number": 66
    },
    {
     "cell_type": "heading",
     "level": 5,
     "metadata": {},
     "source": [
      "Class vs. total number of instances of the class"
     ]
    },
    {
     "cell_type": "code",
     "collapsed": false,
     "input": [
      "for row in g.query('SELECT  ?class (COUNT(DISTINCT(?s)) AS ?count ) { ?s a ?class } GROUP BY ?class ORDER BY DESC(?count)'):\n",
      "    print(row['class'], row['count'])"
     ],
     "language": "python",
     "metadata": {},
     "outputs": [
      {
       "output_type": "stream",
       "stream": "stdout",
       "text": [
        "http://xmlns.com/foaf/0.1/Person 2031\n",
        "http://www.w3.org/2002/07/owl#Class 30\n",
        "http://www.w3.org/2002/07/owl#ObjectProperty 5\n",
        "http://www.w3.org/2002/07/owl#NamedIndividual 5\n",
        "http://bio2rdf.org/ra.challenge:Drug 4\n",
        "http://www.w3.org/2002/07/owl#DatatypeProperty 3\n",
        "http://bio2rdf.org/dbsnp:rs227163 2\n",
        "http://bio2rdf.org/dbsnp:rs2301888 2\n",
        "http://bio2rdf.org/dbsnp:rs2476601 2\n",
        "http://bio2rdf.org/dbsnp:rs624988 2\n",
        "http://bio2rdf.org/dbsnp:rs4656942 2\n",
        "http://bio2rdf.org/dbsnp:rs706778 2\n",
        "http://bio2rdf.org/dbsnp:rs2671692 2\n",
        "http://bio2rdf.org/dbsnp:rs331463 2\n",
        "http://bio2rdf.org/dbsnp:rs508970 2\n",
        "http://bio2rdf.org/dbsnp:rs968567 2\n",
        "http://bio2rdf.org/dbsnp:rs8032939 2\n",
        "http://bio2rdf.org/dbsnp:rs13330176 2\n",
        "http://bio2rdf.org/dbsnp:rs1877030 2\n",
        "http://bio2rdf.org/dbsnp:rs9653442 2\n",
        "http://bio2rdf.org/dbsnp:rs11889341 2\n",
        "http://bio2rdf.org/dbsnp:rs1980422 2\n",
        "http://bio2rdf.org/dbsnp:rs3087243 2\n",
        "http://bio2rdf.org/dbsnp:rs4239702 2\n",
        "http://bio2rdf.org/dbsnp:rs1893592 2\n",
        "http://bio2rdf.org/dbsnp:rs657075 2\n",
        "http://bio2rdf.org/dbsnp:rs7752903 2\n",
        "http://bio2rdf.org/dbsnp:rs2451258 2\n",
        "http://bio2rdf.org/dbsnp:rs1571878 2\n",
        "http://bio2rdf.org/dbsnp:rs4272 2\n",
        "http://bio2rdf.org/dbsnp:rs11574914 2\n",
        "http://bio2rdf.org/dbsnp:rs10985070 2\n",
        "http://bio2rdf.org/ra.challenge_vocabulary:Gender 2\n",
        "http://www.w3.org/2002/07/owl#AllDisjointClasses 2\n",
        "http://www.w3.org/2002/07/owl#AllDifferent 2\n",
        "http://www.w3.org/2002/07/owl#Ontology 1\n",
        "http://www.w3.org/2002/07/owl#Restriction 1\n"
       ]
      }
     ],
     "prompt_number": 67
    },
    {
     "cell_type": "heading",
     "level": 5,
     "metadata": {},
     "source": [
      "Total number of persons; non-responder status: true, false, data missing"
     ]
    },
    {
     "cell_type": "code",
     "collapsed": false,
     "input": [
      "for row in g.query('SELECT (COUNT(DISTINCT ?person) as ?count) WHERE { ?person a foaf:Person . }'):\n",
      "    number_of_persons = int(row['count'])\n",
      "\n",
      "print (number_of_persons, 'persons in total')\n",
      "    \n",
      "    \n",
      "q = '''\\\n",
      "SELECT (COUNT(DISTINCT ?person) as ?count) ?non_responder WHERE {\n",
      "?person a foaf:Person . \n",
      "   OPTIONAL { ?person ra:non-responder ?non_responder . }\n",
      "}\n",
      "GROUP BY ?non_responder\n",
      "'''\n",
      "\n",
      "for row in g.query(q):\n",
      "    print(row['count'], 'persons with non-responder status', row['non_responder'], \n",
      "          '(', '{0:.0%}'.format(int(row['count']) / number_of_persons), ')')\n",
      "    if str(row['non_responder']) == 'true':\n",
      "        number_of_non_responders = int(row['count'])\n",
      "    if str(row['non_responder']) == 'false':\n",
      "        number_of_responders = int(row['count'])"
     ],
     "language": "python",
     "metadata": {},
     "outputs": [
      {
       "output_type": "stream",
       "stream": "stdout",
       "text": [
        "2031 persons in total\n",
        "436"
       ]
      },
      {
       "output_type": "stream",
       "stream": "stdout",
       "text": [
        " persons with non-responder status true ( 21% )\n",
        "1595 persons with non-responder status false ( 79% )\n"
       ]
      }
     ],
     "prompt_number": 32
    },
    {
     "cell_type": "heading",
     "level": 5,
     "metadata": {},
     "source": [
      "Polymorphisms we are representing in the ontology"
     ]
    },
    {
     "cell_type": "code",
     "collapsed": false,
     "input": [
      "q = '''SELECT DISTINCT ?polymorphism WHERE {\n",
      "?polymorphism rdfs:subClassOf ra:Polymorphism .\n",
      "}'''\n",
      "\n",
      "count = 0\n",
      "for row in g.query(q):\n",
      "    print(row['polymorphism'])\n",
      "    count += 1\n",
      "print(count, \"polymorphisms in total\")"
     ],
     "language": "python",
     "metadata": {},
     "outputs": [
      {
       "output_type": "stream",
       "stream": "stdout",
       "text": [
        "http://bio2rdf.org/dbsnp:rs227163\n",
        "http://bio2rdf.org/dbsnp:rs2301888\n",
        "http://bio2rdf.org/dbsnp:rs2476601\n",
        "http://bio2rdf.org/dbsnp:rs624988\n",
        "http://bio2rdf.org/dbsnp:rs4656942\n",
        "http://bio2rdf.org/dbsnp:rs706778\n",
        "http://bio2rdf.org/dbsnp:rs2671692\n",
        "http://bio2rdf.org/dbsnp:rs331463\n",
        "http://bio2rdf.org/dbsnp:rs508970\n",
        "http://bio2rdf.org/dbsnp:rs968567\n",
        "http://bio2rdf.org/dbsnp:rs8032939\n",
        "http://bio2rdf.org/dbsnp:rs13330176\n",
        "http://bio2rdf.org/dbsnp:rs1877030\n",
        "http://bio2rdf.org/dbsnp:rs9653442\n",
        "http://bio2rdf.org/dbsnp:rs11889341\n",
        "http://bio2rdf.org/dbsnp:rs1980422\n",
        "http://bio2rdf.org/dbsnp:rs3087243\n",
        "http://bio2rdf.org/dbsnp:rs4239702\n",
        "http://bio2rdf.org/dbsnp:rs1893592\n",
        "http://bio2rdf.org/dbsnp:rs657075\n",
        "http://bio2rdf.org/dbsnp:rs7752903\n",
        "http://bio2rdf.org/dbsnp:rs2451258\n",
        "http://bio2rdf.org/dbsnp:rs1571878\n",
        "http://bio2rdf.org/dbsnp:rs4272\n",
        "http://bio2rdf.org/dbsnp:rs11574914\n",
        "http://bio2rdf.org/dbsnp:rs10985070\n",
        "26 polymorphisms in total\n"
       ]
      }
     ],
     "prompt_number": 17
    },
    {
     "cell_type": "heading",
     "level": 2,
     "metadata": {},
     "source": [
      "Genetic data in detail"
     ]
    },
    {
     "cell_type": "heading",
     "level": 5,
     "metadata": {},
     "source": [
      "Create data on polymorphism variant counts in graph <tag:samwald.info:polymorphism_variant_counts>"
     ]
    },
    {
     "cell_type": "code",
     "collapsed": false,
     "input": [
      "q = '''\n",
      "INSERT { \n",
      "    GRAPH <tag:samwald.info:polymorphism_variant_counts> { \n",
      "        ?polymorphism_variant ra:count ?count .\n",
      "    }\n",
      "}\n",
      "WHERE {\n",
      "    SELECT ?polymorphism_variant (COUNT(DISTINCT ?person) AS ?count) WHERE {\n",
      "        ?person ra:has-one | ra:has-two ?polymorphism_variant .\n",
      "    } \n",
      "    GROUP BY ?polymorphism_variant\n",
      "}\n",
      "'''\n",
      "\n",
      "g.update(q)"
     ],
     "language": "python",
     "metadata": {},
     "outputs": [],
     "prompt_number": 18
    },
    {
     "cell_type": "heading",
     "level": 5,
     "metadata": {},
     "source": [
      "Let's see the major and minor variants for each polymorphism (together with counts of how many patients have at least one such variant)"
     ]
    },
    {
     "cell_type": "code",
     "collapsed": false,
     "input": [
      "q = '''\\\n",
      "SELECT DISTINCT ?polymorphism_variant_major ?count_major ?polymorphism_variant_minor ?count_minor\n",
      "WHERE {\n",
      "    ?polymorphism rdfs:subClassOf ra:Polymorphism .\n",
      "    ?polymorphism_variant_major a ?polymorphism ;\n",
      "        ra:count ?count_major .\n",
      "    ?polymorphism_variant_minor a ?polymorphism ;\n",
      "        ra:count ?count_minor .\n",
      "        \n",
      "    FILTER(!sameTerm(?polymorphism_variant_major, ?polymorphism_variant_minor) && ?count_major > ?count_minor)\n",
      "}\n",
      "ORDER BY DESC(?count_major)\n",
      "'''\n",
      "\n",
      "count = 0\n",
      "for row in g.query(q):\n",
      "    print(row.polymorphism_variant_major, row.count_major, row.polymorphism_variant_minor, row.count_minor)\n",
      "    count += 1"
     ],
     "language": "python",
     "metadata": {},
     "outputs": [
      {
       "output_type": "stream",
       "stream": "stdout",
       "text": [
        "http://bio2rdf.org/ra.challenge:rs968567_C 2650 http://bio2rdf.org/ra.challenge:rs968567_T 57\n",
        "http://bio2rdf.org/ra.challenge:rs1877030_C 2642 http://bio2rdf.org/ra.challenge:rs1877030_T 68\n",
        "http://bio2rdf.org/ra.challenge:rs4272_A 2587 http://bio2rdf.org/ra.challenge:rs4272_G 141\n",
        "http://bio2rdf.org/ra.challenge:rs4239702_C 2568 http://bio2rdf.org/ra.challenge:rs4239702_T 151\n",
        "http://bio2rdf.org/ra.challenge:rs11889341_C 2561 http://bio2rdf.org/ra.challenge:rs11889341_T 167\n",
        "http://bio2rdf.org/ra.challenge:rs1893592_A 2555 http://bio2rdf.org/ra.challenge:rs1893592_C 205\n",
        "http://bio2rdf.org/ra.challenge:rs7752903_T 2493 http://bio2rdf.org/ra.challenge:rs7752903_G 214\n",
        "http://bio2rdf.org/ra.challenge:rs2671692_A 2367 http://bio2rdf.org/ra.challenge:rs2671692_G 370\n",
        "http://bio2rdf.org/ra.challenge:rs624988_C 2211 http://bio2rdf.org/ra.challenge:rs624988_T 524\n",
        "http://bio2rdf.org/ra.challenge:rs10985070_A 2184 http://bio2rdf.org/ra.challenge:rs10985070_C 525\n",
        "http://bio2rdf.org/ra.challenge:rs657075_G 2181 http://bio2rdf.org/ra.challenge:rs657075_A 534\n",
        "http://bio2rdf.org/ra.challenge:rs706778_C 2162 http://bio2rdf.org/ra.challenge:rs706778_T 550\n",
        "http://bio2rdf.org/ra.challenge:rs331463_T 2105 http://bio2rdf.org/ra.challenge:rs331463_A 651\n",
        "http://bio2rdf.org/ra.challenge:rs508970_A 2029 http://bio2rdf.org/ra.challenge:rs508970_G 690\n",
        "http://bio2rdf.org/ra.challenge:rs9653442_C 2015 http://bio2rdf.org/ra.challenge:rs9653442_T 693\n",
        "http://bio2rdf.org/ra.challenge:rs1571878_C 1939 http://bio2rdf.org/ra.challenge:rs1571878_T 804\n",
        "http://bio2rdf.org/ra.challenge:rs2476601_G 1864 http://bio2rdf.org/ra.challenge:rs2476601_A 874\n",
        "http://bio2rdf.org/ra.challenge:rs227163_C 1819 http://bio2rdf.org/ra.challenge:rs227163_T 925\n",
        "http://bio2rdf.org/ra.challenge:rs3087243_A 1746 http://bio2rdf.org/ra.challenge:rs3087243_G 983\n",
        "http://bio2rdf.org/ra.challenge:rs11574914_A 1705 http://bio2rdf.org/ra.challenge:rs11574914_G 1169\n",
        "http://bio2rdf.org/ra.challenge:rs13330176_T 1687 http://bio2rdf.org/ra.challenge:rs13330176_A 1388\n",
        "http://bio2rdf.org/ra.challenge:rs4656942_G 1615 http://bio2rdf.org/ra.challenge:rs4656942_A 1206\n",
        "http://bio2rdf.org/ra.challenge:rs2451258_C 1570 http://bio2rdf.org/ra.challenge:rs2451258_T 1269\n",
        "http://bio2rdf.org/ra.challenge:rs2301888_A 1562 http://bio2rdf.org/ra.challenge:rs2301888_G 1322\n",
        "http://bio2rdf.org/ra.challenge:rs1980422_T 1518 http://bio2rdf.org/ra.challenge:rs1980422_C 1199\n",
        "http://bio2rdf.org/ra.challenge:rs8032939_T 1514 http://bio2rdf.org/ra.challenge:rs8032939_C 1257\n"
       ]
      }
     ],
     "prompt_number": 19
    },
    {
     "cell_type": "heading",
     "level": 5,
     "metadata": {},
     "source": [
      "This is cool, let's also reflect this in the RDF by inferring ra:major_variant and ra:minor_variant types and adding those to the graph"
     ]
    },
    {
     "cell_type": "code",
     "collapsed": false,
     "input": [
      "q = '''\\\n",
      "PREFIX ra: <http://bio2rdf.org/ra.challenge_vocabulary:>\n",
      "\n",
      "INSERT { \n",
      "    GRAPH <tag:samwald.info:polymorphism_variant_counts> {\n",
      "        ?polymorphism_variant_major a ra:major_variant .\n",
      "        ?polymorphism_variant_minor a ra:minor_variant .\n",
      "    }\n",
      "} WHERE {\n",
      "SELECT DISTINCT ?polymorphism_variant_major ?count_major ?polymorphism_variant_minor ?count_minor\n",
      "WHERE {\n",
      "    ?polymorphism rdfs:subClassOf ra:Polymorphism .\n",
      "    ?polymorphism_variant_major a ?polymorphism ;\n",
      "        ra:count ?count_major .\n",
      "    ?polymorphism_variant_minor a ?polymorphism ;\n",
      "        ra:count ?count_minor .\n",
      "        \n",
      "    FILTER(!sameTerm(?polymorphism_variant_major, ?polymorphism_variant_minor) && ?count_major > ?count_minor)\n",
      "}\n",
      "}'''\n",
      "\n",
      "g.update(q)"
     ],
     "language": "python",
     "metadata": {},
     "outputs": [],
     "prompt_number": 22
    },
    {
     "cell_type": "heading",
     "level": 5,
     "metadata": {},
     "source": [
      "Number of patients with homozygous minor variants"
     ]
    },
    {
     "cell_type": "code",
     "collapsed": false,
     "input": [
      "q = '''\\\n",
      "SELECT ?polymorphism_variant (COUNT(DISTINCT ?person) AS ?count) WHERE {\n",
      "        ?person ra:has-two ?polymorphism_variant .\n",
      "        ?polymorphism_variant a ra:minor_variant .\n",
      "    } \n",
      "GROUP BY ?polymorphism_variant\n",
      "ORDER BY DESC(?count)\n",
      "'''\n",
      "\n",
      "for row in g.query(q):\n",
      "    print(row['polymorphism_variant'], row['count'])"
     ],
     "language": "python",
     "metadata": {},
     "outputs": [
      {
       "output_type": "stream",
       "stream": "stdout",
       "text": [
        "http://bio2rdf.org/ra.challenge:rs8032939_C 1192\n",
        "http://bio2rdf.org/ra.challenge:rs1980422_C 1188\n",
        "http://bio2rdf.org/ra.challenge:rs2301888_G 1144\n",
        "http://bio2rdf.org/ra.challenge:rs2451258_T 1136\n",
        "http://bio2rdf.org/ra.challenge:rs4656942_A 1091\n",
        "http://bio2rdf.org/ra.challenge:rs13330176_A 1019\n",
        "http://bio2rdf.org/ra.challenge:rs11574914_G 1001\n",
        "http://bio2rdf.org/ra.challenge:rs3087243_G 960\n",
        "http://bio2rdf.org/ra.challenge:rs227163_T 887\n",
        "http://bio2rdf.org/ra.challenge:rs2476601_A 842\n",
        "http://bio2rdf.org/ra.challenge:rs1571878_T 767\n",
        "http://bio2rdf.org/ra.challenge:rs9653442_T 691\n",
        "http://bio2rdf.org/ra.challenge:rs508970_G 677\n",
        "http://bio2rdf.org/ra.challenge:rs331463_A 601\n",
        "http://bio2rdf.org/ra.challenge:rs706778_T 544\n",
        "http://bio2rdf.org/ra.challenge:rs657075_A 525\n",
        "http://bio2rdf.org/ra.challenge:rs10985070_C 522\n",
        "http://bio2rdf.org/ra.challenge:rs624988_T 495\n",
        "http://bio2rdf.org/ra.challenge:rs2671692_G 339\n",
        "http://bio2rdf.org/ra.challenge:rs7752903_G 213\n",
        "http://bio2rdf.org/ra.challenge:rs1893592_C 151\n",
        "http://bio2rdf.org/ra.challenge:rs11889341_T 145\n",
        "http://bio2rdf.org/ra.challenge:rs4239702_T 138\n",
        "http://bio2rdf.org/ra.challenge:rs4272_G 119\n",
        "http://bio2rdf.org/ra.challenge:rs1877030_T 64\n",
        "http://bio2rdf.org/ra.challenge:rs968567_T 56\n"
       ]
      }
     ],
     "prompt_number": 24
    },
    {
     "cell_type": "heading",
     "level": 5,
     "metadata": {},
     "source": [
      "For each minor variant, show the number and percentage of responders vs. non-responders that are homozygous for that variant"
     ]
    },
    {
     "cell_type": "code",
     "collapsed": false,
     "input": [
      "q = '''\\\n",
      "SELECT ?polymorphism_variant (COUNT(DISTINCT ?responder) AS ?responder_count)(COUNT(DISTINCT ?non_responder) AS ?non_responder_count) WHERE {\n",
      "?polymorphism_variant a ra:minor_variant .\n",
      "    OPTIONAL {\n",
      "        ?responder ra:has-two ?polymorphism_variant .\n",
      "        ?responder ra:non-responder false . \n",
      "    }\n",
      "    OPTIONAL {\n",
      "        ?non_responder ra:has-two ?polymorphism_variant .\n",
      "        ?non_responder ra:non-responder true .\n",
      "    }\n",
      "} \n",
      "GROUP BY ?polymorphism_variant\n",
      "ORDER BY DESC(?non_responder_count)\n",
      "'''\n",
      "\n",
      "for row in g.query(q):\n",
      "    print(row.polymorphism_variant, \n",
      "          row.responder_count, \n",
      "          '{0:.0%}'.format(int(row.responder_count) / number_of_responders), \n",
      "          row.non_responder_count, \n",
      "          '{0:.0%}'.format(int(row.non_responder_count) / number_of_non_responders))"
     ],
     "language": "python",
     "metadata": {},
     "outputs": [
      {
       "output_type": "stream",
       "stream": "stdout",
       "text": [
        "http://bio2rdf.org/ra.challenge:rs2301888_G 673 42% 187 43%\n",
        "http://bio2rdf.org/ra.challenge:rs4656942_A 637 40% 187 43%\n",
        "http://bio2rdf.org/ra.challenge:rs8032939_C 716 45% 185 42%\n",
        "http://bio2rdf.org/ra.challenge:rs1980422_C 695 44% 183 42%\n",
        "http://bio2rdf.org/ra.challenge:rs2451258_T 663 42% 182 42%\n",
        "http://bio2rdf.org/ra.challenge:rs13330176_A 606 38% 177 41%\n",
        "http://bio2rdf.org/ra.challenge:rs3087243_G 572 36% 157 36%\n",
        "http://bio2rdf.org/ra.challenge:rs11574914_G 610 38% 154 35%\n",
        "http://bio2rdf.org/ra.challenge:rs227163_T 499 31% 148 34%\n",
        "http://bio2rdf.org/ra.challenge:rs2476601_A 496 31% 123 28%\n",
        "http://bio2rdf.org/ra.challenge:rs1571878_T 454 28% 121 28%\n",
        "http://bio2rdf.org/ra.challenge:rs508970_G 380 24% 107 25%\n",
        "http://bio2rdf.org/ra.challenge:rs9653442_T 414 26% 104 24%\n",
        "http://bio2rdf.org/ra.challenge:rs331463_A 358 22% 99 23%\n",
        "http://bio2rdf.org/ra.challenge:rs657075_A 302 19% 98 22%\n",
        "http://bio2rdf.org/ra.challenge:rs706778_T 303 19% 96 22%\n",
        "http://bio2rdf.org/ra.challenge:rs10985070_C 311 19% 85 19%\n",
        "http://bio2rdf.org/ra.challenge:rs624988_T 288 18% 73 17%\n",
        "http://bio2rdf.org/ra.challenge:rs2671692_G 203 13% 55 13%\n",
        "http://bio2rdf.org/ra.challenge:rs7752903_G 120 8% 39 9%\n",
        "http://bio2rdf.org/ra.challenge:rs1893592_C 86 5% 31 7%\n",
        "http://bio2rdf.org/ra.challenge:rs4239702_T 72 5% 29 7%\n",
        "http://bio2rdf.org/ra.challenge:rs11889341_T 95 6% 21 5%\n",
        "http://bio2rdf.org/ra.challenge:rs4272_G 75 5% 12 3%\n",
        "http://bio2rdf.org/ra.challenge:rs968567_T 32 2% 9 2%\n",
        "http://bio2rdf.org/ra.challenge:rs1877030_T 38 2% 5 1%\n"
       ]
      }
     ],
     "prompt_number": 38
    },
    {
     "cell_type": "heading",
     "level": 5,
     "metadata": {},
     "source": [
      "This is quite inconclusive. In total per patient, do non-responders have more 'minor variants' than responders? (again we are only comparing homozygous cases, based on the assumption that this is where we could see the strongest effect)"
     ]
    },
    {
     "cell_type": "code",
     "collapsed": false,
     "input": [
      "q = '''\\\n",
      "SELECT (COUNT(DISTINCT ?person) as ?person_count) (COUNT(?polymorphism_variant) as ?number_of_total_homozygous_minor_variant_genotypes) ?non_responder WHERE {\n",
      "    ?person ra:non-responder ?non_responder ;\n",
      "        ra:has-two ?polymorphism_variant .\n",
      "    ?polymorphism_variant a ra:minor_variant .\n",
      "}\n",
      "GROUP BY ?non_responder\n",
      "'''\n",
      "\n",
      "for row in g.query(q):\n",
      "    print('There are', row.person_count, 'persons with non_responder status', \n",
      "          row.non_responder, 'with a population-wide total of', row.number_of_total_homozygous_minor_variant_genotypes,\n",
      "          'homozygous minor variant genotypes --', int(row.number_of_total_homozygous_minor_variant_genotypes) / int(row.person_count), 'per person')"
     ],
     "language": "python",
     "metadata": {},
     "outputs": [
      {
       "output_type": "stream",
       "stream": "stdout",
       "text": [
        "There are 436 persons with non_responder status true with a population-wide total of 2667 homozygous minor variant genotypes -- 6.11697247706422 per person\n",
        "There are 1592 persons with non_responder status false with a population-wide total of 9698 homozygous minor variant genotypes -- 6.091708542713568 per person\n"
       ]
      }
     ],
     "prompt_number": 42
    },
    {
     "cell_type": "code",
     "collapsed": false,
     "input": [
      "g.close()"
     ],
     "language": "python",
     "metadata": {},
     "outputs": [],
     "prompt_number": 23
    }
   ],
   "metadata": {}
  }
 ]
}