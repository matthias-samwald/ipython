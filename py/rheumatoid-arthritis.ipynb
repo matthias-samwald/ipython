{
 "metadata": {
  "name": ""
 },
 "nbformat": 3,
 "nbformat_minor": 0,
 "worksheets": [
  {
   "cells": [
    {
     "cell_type": "code",
     "collapsed": false,
     "input": [
      "import rdflib\n",
      "from rdflib import URIRef, BNode, Literal\n",
      "from rdflib.namespace import Namespace, NamespaceManager, RDF, FOAF, RDFS, OWL\n",
      "from rdflib.plugins.sparql import prepareQuery\n",
      "\n",
      "namespace_manager = NamespaceManager(rdflib.Graph())\n",
      "namespace_manager.bind('foaf', FOAF, override=False)\n",
      "\n",
      "endpoint = 'http://localhost:8080/openrdf-sesame/repositories/synapse-challenge' # this is an RDFS inferencing store\n",
      "g = rdflib.ConjunctiveGraph('SPARQLUpdateStore', identifier='http://samwald.info/ont/') \n",
      "g.namespace_manager = namespace_manager\n",
      "\n",
      "g.open((endpoint, endpoint + \"/statements\")) # endpoint, SPARQL Update endpoint"
     ],
     "language": "python",
     "metadata": {},
     "outputs": [],
     "prompt_number": 36
    },
    {
     "cell_type": "heading",
     "level": 2,
     "metadata": {},
     "source": [
      "Basic statistics"
     ]
    },
    {
     "cell_type": "heading",
     "level": 5,
     "metadata": {},
     "source": [
      "property vs. total number of triples using the property"
     ]
    },
    {
     "cell_type": "code",
     "collapsed": false,
     "input": [
      "for row in g.query('SELECT ?p (COUNT(?s) AS ?count ) { ?s ?p ?o } GROUP BY ?p ORDER BY DESC(?count)'):\n",
      "    print(row['p'], row['count'])"
     ],
     "language": "python",
     "metadata": {},
     "outputs": [
      {
       "output_type": "stream",
       "stream": "stdout",
       "text": [
        "http://bio2rdf.org/ra.challenge_vocabulary:has-two 137854\n",
        "http://bio2rdf.org/ra.challenge_vocabulary:has-atleast-one 71785\n",
        "http://bio2rdf.org/ra.challenge_vocabulary:has-at-least-one 71785\n",
        "http://www.w3.org/1999/02/22-rdf-syntax-ns#type 10745\n",
        "http://bio2rdf.org/ra.challenge_vocabulary:has-one 5716\n",
        "http://bio2rdf.org/ra.challenge_vocabulary:drug 5412\n",
        "http://bio2rdf.org/ra.challenge_vocabulary:age 5412\n",
        "http://bio2rdf.org/ra.challenge_vocabulary:gender 5412\n",
        "http://bio2rdf.org/ra.challenge_vocabulary:methotrexate-cotherapy 5412\n",
        "http://www.w3.org/2000/01/rdf-schema#label 4084\n",
        "http://bio2rdf.org/ra.challenge_vocabulary:non-responder 4062\n",
        "http://www.openrdf.org/schema/sesame#directType 2941\n",
        "http://www.w3.org/2000/01/rdf-schema#subClassOf 191\n",
        "http://www.w3.org/1999/02/22-rdf-syntax-ns#first 74\n",
        "http://www.w3.org/1999/02/22-rdf-syntax-ns#rest 74\n",
        "http://www.openrdf.org/schema/sesame#directSubClassOf 52\n",
        "http://www.w3.org/2000/01/rdf-schema#subPropertyOf 40\n",
        "http://www.w3.org/2000/01/rdf-schema#range 26\n",
        "http://www.w3.org/2000/01/rdf-schema#domain 22\n",
        "http://www.openrdf.org/schema/sesame#directSubPropertyOf 5\n",
        "http://www.w3.org/2002/07/owl#members 4\n",
        "http://www.w3.org/2002/07/owl#distinctMembers 4\n",
        "http://www.w3.org/2002/07/owl#propertyDisjointWith 2\n",
        "http://www.w3.org/2002/07/owl#onProperty 2\n",
        "http://www.w3.org/2002/07/owl#someValuesFrom 2\n"
       ]
      }
     ],
     "prompt_number": 25
    },
    {
     "cell_type": "heading",
     "level": 5,
     "metadata": {},
     "source": [
      "class vs. total number of instances of the class"
     ]
    },
    {
     "cell_type": "code",
     "collapsed": false,
     "input": [
      "for row in g.query('SELECT  ?class (COUNT(?s) AS ?count ) { ?s a ?class } GROUP BY ?class ORDER BY DESC(?count)'):\n",
      "    print(row['class'], row['count'])"
     ],
     "language": "python",
     "metadata": {},
     "outputs": [
      {
       "output_type": "stream",
       "stream": "stdout",
       "text": [
        "http://xmlns.com/foaf/0.1/Person 4737\n",
        "http://www.w3.org/2000/01/rdf-schema#Resource 2897\n",
        "node18mttklumx1 2706\n",
        "http://www.w3.org/2002/07/owl#Class 60\n",
        "http://www.w3.org/2000/01/rdf-schema#Class 53\n",
        "http://bio2rdf.org/ra.challenge_vocabulary:Polymorphism 52\n",
        "http://www.w3.org/1999/02/22-rdf-syntax-ns#List 38\n",
        "http://www.w3.org/1999/02/22-rdf-syntax-ns#Property 33\n",
        "http://bio2rdf.org/ra.challenge:Drug 15\n",
        "http://www.w3.org/2002/07/owl#ObjectProperty 14\n",
        "http://www.w3.org/2002/07/owl#NamedIndividual 10\n",
        "http://www.w3.org/2002/07/owl#DatatypeProperty 9\n",
        "http://bio2rdf.org/dbsnp:rs227163 4\n",
        "http://bio2rdf.org/dbsnp:rs2301888 4\n",
        "http://bio2rdf.org/dbsnp:rs2476601 4\n",
        "http://bio2rdf.org/dbsnp:rs624988 4\n",
        "http://bio2rdf.org/dbsnp:rs4656942 4\n",
        "http://bio2rdf.org/dbsnp:rs9653442 4\n",
        "http://bio2rdf.org/dbsnp:rs11889341 4\n",
        "http://bio2rdf.org/dbsnp:rs1980422 4\n",
        "http://bio2rdf.org/dbsnp:rs3087243 4\n",
        "http://bio2rdf.org/dbsnp:rs657075 4\n",
        "http://bio2rdf.org/dbsnp:rs7752903 4\n",
        "http://bio2rdf.org/dbsnp:rs2451258 4\n",
        "http://bio2rdf.org/dbsnp:rs1571878 4\n",
        "http://bio2rdf.org/dbsnp:rs4272 4\n",
        "http://bio2rdf.org/dbsnp:rs11574914 4\n",
        "http://bio2rdf.org/dbsnp:rs10985070 4\n",
        "http://bio2rdf.org/dbsnp:rs706778 4\n",
        "http://bio2rdf.org/dbsnp:rs2671692 4\n",
        "http://bio2rdf.org/dbsnp:rs331463 4\n",
        "http://bio2rdf.org/dbsnp:rs508970 4\n",
        "http://bio2rdf.org/dbsnp:rs968567 4\n",
        "http://bio2rdf.org/dbsnp:rs8032939 4\n",
        "http://bio2rdf.org/dbsnp:rs13330176 4\n",
        "http://bio2rdf.org/dbsnp:rs1877030 4\n",
        "http://bio2rdf.org/dbsnp:rs4239702 4\n",
        "http://bio2rdf.org/dbsnp:rs1893592 4\n",
        "http://bio2rdf.org/ra.challenge_vocabulary:Gender 4\n",
        "http://www.w3.org/2002/07/owl#AllDisjointClasses 4\n",
        "http://www.w3.org/2002/07/owl#AllDifferent 4\n",
        "http://www.w3.org/2002/07/owl#Ontology 2\n",
        "http://www.w3.org/2002/07/owl#Restriction 2\n",
        "http://www.w3.org/2000/01/rdf-schema#Datatype 1\n"
       ]
      }
     ],
     "prompt_number": 26
    },
    {
     "cell_type": "heading",
     "level": 5,
     "metadata": {},
     "source": [
      "Total number of persons; non-responder status: true, false, data missing"
     ]
    },
    {
     "cell_type": "code",
     "collapsed": false,
     "input": [
      "for row in g.query('SELECT (COUNT(DISTINCT ?person) as ?count) WHERE { ?person a foaf:Person . }'):\n",
      "    number_of_persons = int(row['count'])\n",
      "\n",
      "print (number_of_persons, 'persons in total')\n",
      "    \n",
      "    \n",
      "q = '''\\\n",
      "SELECT (COUNT(DISTINCT ?person) as ?count) ?non_responder WHERE {\n",
      "?person a foaf:Person . \n",
      "   OPTIONAL { ?person <http://bio2rdf.org/ra.challenge_vocabulary:non-responder> ?non_responder . }\n",
      "}\n",
      "GROUP BY ?non_responder\n",
      "'''\n",
      "\n",
      "for row in g.query(q):\n",
      "    print(row['count'], 'persons with non-responder status', row['non_responder'], \n",
      "          '(', '{0:.0%}'.format(int(row['count']) / number_of_persons), ')')"
     ],
     "language": "python",
     "metadata": {},
     "outputs": [
      {
       "output_type": "stream",
       "stream": "stdout",
       "text": [
        "2706 persons in total\n",
        "436"
       ]
      },
      {
       "output_type": "stream",
       "stream": "stdout",
       "text": [
        " persons with non-responder status true ( 16% )\n",
        "1595 persons with non-responder status false ( 59% )\n",
        "675 persons with non-responder status None ( 25% )\n"
       ]
      }
     ],
     "prompt_number": 56
    },
    {
     "cell_type": "code",
     "collapsed": false,
     "input": [
      "g.close()"
     ],
     "language": "python",
     "metadata": {},
     "outputs": []
    }
   ],
   "metadata": {}
  }
 ]
}