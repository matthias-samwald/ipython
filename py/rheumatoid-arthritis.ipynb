{
 "metadata": {
  "name": ""
 },
 "nbformat": 3,
 "nbformat_minor": 0,
 "worksheets": [
  {
   "cells": [
    {
     "cell_type": "code",
     "collapsed": false,
     "input": [
      "import rdflib\n",
      "from rdflib import URIRef, BNode, Literal\n",
      "from rdflib.namespace import Namespace, NamespaceManager, RDF, FOAF, RDFS, OWL\n",
      "from rdflib.plugins.sparql import prepareQuery\n",
      "\n",
      "namespace_manager = NamespaceManager(rdflib.Graph())\n",
      "namespace_manager.bind('foaf', FOAF, override=False)\n",
      "namespace_manager.bind('sesame', Namespace('http://www.openrdf.org/schema/sesame#'), override=False)\n",
      "\n",
      "endpoint = 'http://localhost:8080/openrdf-sesame/repositories/synapse-challenge' # this is an RDFS inferencing store\n",
      "g = rdflib.ConjunctiveGraph('SPARQLUpdateStore', identifier='http://samwald.info/ont/') \n",
      "g.namespace_manager = namespace_manager\n",
      "\n",
      "g.open((endpoint, endpoint + \"/statements\")) # endpoint, SPARQL Update endpoint"
     ],
     "language": "python",
     "metadata": {},
     "outputs": [],
     "prompt_number": 84
    },
    {
     "cell_type": "heading",
     "level": 2,
     "metadata": {},
     "source": [
      "Basic statistics"
     ]
    },
    {
     "cell_type": "heading",
     "level": 5,
     "metadata": {},
     "source": [
      "property vs. total number of triples using the property"
     ]
    },
    {
     "cell_type": "code",
     "collapsed": false,
     "input": [
      "for row in g.query('SELECT ?p (COUNT(?s) AS ?count ) { ?s ?p ?o } GROUP BY ?p ORDER BY DESC(?count)'):\n",
      "    print(row['p'], row['count'])"
     ],
     "language": "python",
     "metadata": {},
     "outputs": [
      {
       "output_type": "stream",
       "stream": "stdout",
       "text": [
        "http://bio2rdf.org/ra.challenge_vocabulary:has-two 137854\n",
        "http://bio2rdf.org/ra.challenge_vocabulary:has-atleast-one 71785\n",
        "http://bio2rdf.org/ra.challenge_vocabulary:has-at-least-one 71785\n",
        "http://www.w3.org/1999/02/22-rdf-syntax-ns#type 10745\n",
        "http://bio2rdf.org/ra.challenge_vocabulary:has-one 5716\n",
        "http://bio2rdf.org/ra.challenge_vocabulary:drug 5412\n",
        "http://bio2rdf.org/ra.challenge_vocabulary:age 5412\n",
        "http://bio2rdf.org/ra.challenge_vocabulary:gender 5412\n",
        "http://bio2rdf.org/ra.challenge_vocabulary:methotrexate-cotherapy 5412\n",
        "http://www.w3.org/2000/01/rdf-schema#label 4084\n",
        "http://bio2rdf.org/ra.challenge_vocabulary:non-responder 4062\n",
        "http://www.openrdf.org/schema/sesame#directType 2941\n",
        "http://www.w3.org/2000/01/rdf-schema#subClassOf 191\n",
        "http://www.w3.org/1999/02/22-rdf-syntax-ns#first 74\n",
        "http://www.w3.org/1999/02/22-rdf-syntax-ns#rest 74\n",
        "http://www.openrdf.org/schema/sesame#directSubClassOf 52\n",
        "http://www.w3.org/2000/01/rdf-schema#subPropertyOf 40\n",
        "http://www.w3.org/2000/01/rdf-schema#range 26\n",
        "http://www.w3.org/2000/01/rdf-schema#domain 22\n",
        "http://www.openrdf.org/schema/sesame#directSubPropertyOf 5\n",
        "http://www.w3.org/2002/07/owl#members 4\n",
        "http://www.w3.org/2002/07/owl#distinctMembers 4\n",
        "http://www.w3.org/2002/07/owl#propertyDisjointWith 2\n",
        "http://www.w3.org/2002/07/owl#onProperty 2\n",
        "http://www.w3.org/2002/07/owl#someValuesFrom 2\n"
       ]
      }
     ],
     "prompt_number": 25
    },
    {
     "cell_type": "heading",
     "level": 5,
     "metadata": {},
     "source": [
      "class vs. total number of instances of the class"
     ]
    },
    {
     "cell_type": "code",
     "collapsed": false,
     "input": [
      "for row in g.query('SELECT  ?class (COUNT(?s) AS ?count ) { ?s a ?class } GROUP BY ?class ORDER BY DESC(?count)'):\n",
      "    print(row['class'], row['count'])"
     ],
     "language": "python",
     "metadata": {},
     "outputs": [
      {
       "output_type": "stream",
       "stream": "stdout",
       "text": [
        "http://xmlns.com/foaf/0.1/Person 4737\n",
        "http://www.w3.org/2000/01/rdf-schema#Resource 2897\n",
        "node18mttklumx1 2706\n",
        "http://www.w3.org/2002/07/owl#Class 60\n",
        "http://www.w3.org/2000/01/rdf-schema#Class 53\n",
        "http://bio2rdf.org/ra.challenge_vocabulary:Polymorphism 52\n",
        "http://www.w3.org/1999/02/22-rdf-syntax-ns#List 38\n",
        "http://www.w3.org/1999/02/22-rdf-syntax-ns#Property 33\n",
        "http://bio2rdf.org/ra.challenge:Drug 15\n",
        "http://www.w3.org/2002/07/owl#ObjectProperty 14\n",
        "http://www.w3.org/2002/07/owl#NamedIndividual 10\n",
        "http://www.w3.org/2002/07/owl#DatatypeProperty 9\n",
        "http://bio2rdf.org/dbsnp:rs227163 4\n",
        "http://bio2rdf.org/dbsnp:rs2301888 4\n",
        "http://bio2rdf.org/dbsnp:rs2476601 4\n",
        "http://bio2rdf.org/dbsnp:rs624988 4\n",
        "http://bio2rdf.org/dbsnp:rs4656942 4\n",
        "http://bio2rdf.org/dbsnp:rs9653442 4\n",
        "http://bio2rdf.org/dbsnp:rs11889341 4\n",
        "http://bio2rdf.org/dbsnp:rs1980422 4\n",
        "http://bio2rdf.org/dbsnp:rs3087243 4\n",
        "http://bio2rdf.org/dbsnp:rs657075 4\n",
        "http://bio2rdf.org/dbsnp:rs7752903 4\n",
        "http://bio2rdf.org/dbsnp:rs2451258 4\n",
        "http://bio2rdf.org/dbsnp:rs1571878 4\n",
        "http://bio2rdf.org/dbsnp:rs4272 4\n",
        "http://bio2rdf.org/dbsnp:rs11574914 4\n",
        "http://bio2rdf.org/dbsnp:rs10985070 4\n",
        "http://bio2rdf.org/dbsnp:rs706778 4\n",
        "http://bio2rdf.org/dbsnp:rs2671692 4\n",
        "http://bio2rdf.org/dbsnp:rs331463 4\n",
        "http://bio2rdf.org/dbsnp:rs508970 4\n",
        "http://bio2rdf.org/dbsnp:rs968567 4\n",
        "http://bio2rdf.org/dbsnp:rs8032939 4\n",
        "http://bio2rdf.org/dbsnp:rs13330176 4\n",
        "http://bio2rdf.org/dbsnp:rs1877030 4\n",
        "http://bio2rdf.org/dbsnp:rs4239702 4\n",
        "http://bio2rdf.org/dbsnp:rs1893592 4\n",
        "http://bio2rdf.org/ra.challenge_vocabulary:Gender 4\n",
        "http://www.w3.org/2002/07/owl#AllDisjointClasses 4\n",
        "http://www.w3.org/2002/07/owl#AllDifferent 4\n",
        "http://www.w3.org/2002/07/owl#Ontology 2\n",
        "http://www.w3.org/2002/07/owl#Restriction 2\n",
        "http://www.w3.org/2000/01/rdf-schema#Datatype 1\n"
       ]
      }
     ],
     "prompt_number": 26
    },
    {
     "cell_type": "heading",
     "level": 5,
     "metadata": {},
     "source": [
      "Total number of persons; non-responder status: true, false, data missing"
     ]
    },
    {
     "cell_type": "code",
     "collapsed": false,
     "input": [
      "for row in g.query('SELECT (COUNT(DISTINCT ?person) as ?count) WHERE { ?person a foaf:Person . }'):\n",
      "    number_of_persons = int(row['count'])\n",
      "\n",
      "print (number_of_persons, 'persons in total')\n",
      "    \n",
      "    \n",
      "q = '''\\\n",
      "SELECT (COUNT(DISTINCT ?person) as ?count) ?non_responder WHERE {\n",
      "?person a foaf:Person . \n",
      "   OPTIONAL { ?person <http://bio2rdf.org/ra.challenge_vocabulary:non-responder> ?non_responder . }\n",
      "}\n",
      "GROUP BY ?non_responder\n",
      "'''\n",
      "\n",
      "for row in g.query(q):\n",
      "    print(row['count'], 'persons with non-responder status', row['non_responder'], \n",
      "          '(', '{0:.0%}'.format(int(row['count']) / number_of_persons), ')')"
     ],
     "language": "python",
     "metadata": {},
     "outputs": [
      {
       "output_type": "stream",
       "stream": "stdout",
       "text": [
        "2706 persons in total\n",
        "436"
       ]
      },
      {
       "output_type": "stream",
       "stream": "stdout",
       "text": [
        " persons with non-responder status true ( 16% )\n",
        "1595 persons with non-responder status false ( 59% )\n",
        "675 persons with non-responder status None ( 25% )\n"
       ]
      }
     ],
     "prompt_number": 56
    },
    {
     "cell_type": "heading",
     "level": 5,
     "metadata": {},
     "source": [
      "Polymorphisms we are representing in the ontology"
     ]
    },
    {
     "cell_type": "code",
     "collapsed": false,
     "input": [
      "q = '''SELECT DISTINCT ?polymorphism WHERE {\n",
      "?polymorphism sesame:directSubClassOf <http://bio2rdf.org/ra.challenge_vocabulary:Polymorphism> .\n",
      "}'''\n",
      "\n",
      "count = 0\n",
      "for row in g.query(q):\n",
      "    print(row['polymorphism'])\n",
      "    count += 1\n",
      "print(count, \"polymorphisms in total\")"
     ],
     "language": "python",
     "metadata": {},
     "outputs": [
      {
       "output_type": "stream",
       "stream": "stdout",
       "text": [
        "http://bio2rdf.org/dbsnp:rs227163\n",
        "http://bio2rdf.org/dbsnp:rs2301888\n",
        "http://bio2rdf.org/dbsnp:rs2476601\n",
        "http://bio2rdf.org/dbsnp:rs624988\n",
        "http://bio2rdf.org/dbsnp:rs4656942\n",
        "http://bio2rdf.org/dbsnp:rs9653442\n",
        "http://bio2rdf.org/dbsnp:rs11889341\n",
        "http://bio2rdf.org/dbsnp:rs1980422\n",
        "http://bio2rdf.org/dbsnp:rs3087243\n",
        "http://bio2rdf.org/dbsnp:rs657075\n",
        "http://bio2rdf.org/dbsnp:rs7752903\n",
        "http://bio2rdf.org/dbsnp:rs2451258\n",
        "http://bio2rdf.org/dbsnp:rs1571878\n",
        "http://bio2rdf.org/dbsnp:rs4272\n",
        "http://bio2rdf.org/dbsnp:rs11574914\n",
        "http://bio2rdf.org/dbsnp:rs10985070\n",
        "http://bio2rdf.org/dbsnp:rs706778\n",
        "http://bio2rdf.org/dbsnp:rs2671692\n",
        "http://bio2rdf.org/dbsnp:rs331463\n",
        "http://bio2rdf.org/dbsnp:rs508970\n",
        "http://bio2rdf.org/dbsnp:rs968567\n",
        "http://bio2rdf.org/dbsnp:rs8032939\n",
        "http://bio2rdf.org/dbsnp:rs13330176\n",
        "http://bio2rdf.org/dbsnp:rs1877030\n",
        "http://bio2rdf.org/dbsnp:rs4239702\n",
        "http://bio2rdf.org/dbsnp:rs1893592\n",
        "26 polymorphisms in total\n"
       ]
      }
     ],
     "prompt_number": 66
    },
    {
     "cell_type": "heading",
     "level": 5,
     "metadata": {},
     "source": [
      "Polymorphism variants found in the sample"
     ]
    },
    {
     "cell_type": "code",
     "collapsed": false,
     "input": [
      "q = '''\n",
      "SELECT ?polymorphism_variant (COUNT(DISTINCT ?person) AS ?count) WHERE {\n",
      "?person <http://bio2rdf.org/ra.challenge_vocabulary:has-at-least-one> ?polymorphism_variant . \n",
      "}\n",
      "GROUP BY ?polymorphism_variant\n",
      "ORDER BY DESC(?count)\n",
      "'''\n",
      "\n",
      "count = 0\n",
      "for row in g.query(q):\n",
      "    print(row['polymorphism_variant'], row['count'])\n",
      "###    count += 1"
     ],
     "language": "python",
     "metadata": {},
     "outputs": [
      {
       "output_type": "stream",
       "stream": "stdout",
       "text": [
        "http://bio2rdf.org/ra.challenge:rs968567_C 2650\n",
        "http://bio2rdf.org/ra.challenge:rs1877030_C 2642\n",
        "http://bio2rdf.org/ra.challenge:rs4272_A 2587\n",
        "http://bio2rdf.org/ra.challenge:rs4239702_C 2568\n",
        "http://bio2rdf.org/ra.challenge:rs11889341_C 2561\n",
        "http://bio2rdf.org/ra.challenge:rs1893592_A 2555\n",
        "http://bio2rdf.org/ra.challenge:rs7752903_T 2493\n",
        "http://bio2rdf.org/ra.challenge:rs2671692_A 2367\n",
        "http://bio2rdf.org/ra.challenge:rs624988_C 2211\n",
        "http://bio2rdf.org/ra.challenge:rs10985070_A 2184\n",
        "http://bio2rdf.org/ra.challenge:rs657075_G 2181\n",
        "http://bio2rdf.org/ra.challenge:rs706778_C 2162\n",
        "http://bio2rdf.org/ra.challenge:rs331463_T 2105\n",
        "http://bio2rdf.org/ra.challenge:rs508970_A 2029\n",
        "http://bio2rdf.org/ra.challenge:rs9653442_C 2015\n",
        "http://bio2rdf.org/ra.challenge:rs1571878_C 1939\n",
        "http://bio2rdf.org/ra.challenge:rs2476601_G 1864\n",
        "http://bio2rdf.org/ra.challenge:rs227163_C 1819\n",
        "http://bio2rdf.org/ra.challenge:rs3087243_A 1746\n",
        "http://bio2rdf.org/ra.challenge:rs11574914_A 1705\n",
        "http://bio2rdf.org/ra.challenge:rs13330176_T 1687\n",
        "http://bio2rdf.org/ra.challenge:rs4656942_G 1615\n",
        "http://bio2rdf.org/ra.challenge:rs2451258_C 1570\n",
        "http://bio2rdf.org/ra.challenge:rs2301888_A 1562\n",
        "http://bio2rdf.org/ra.challenge:rs1980422_T 1518\n",
        "http://bio2rdf.org/ra.challenge:rs8032939_T 1514\n",
        "http://bio2rdf.org/ra.challenge:rs13330176_A 1388\n",
        "http://bio2rdf.org/ra.challenge:rs2301888_G 1322\n",
        "http://bio2rdf.org/ra.challenge:rs2451258_T 1269\n",
        "http://bio2rdf.org/ra.challenge:rs8032939_C 1257\n",
        "http://bio2rdf.org/ra.challenge:rs4656942_A 1206\n",
        "http://bio2rdf.org/ra.challenge:rs1980422_C 1199\n",
        "http://bio2rdf.org/ra.challenge:rs11574914_G 1169\n",
        "http://bio2rdf.org/ra.challenge:rs3087243_G 983\n",
        "http://bio2rdf.org/ra.challenge:rs227163_T 925\n",
        "http://bio2rdf.org/ra.challenge:rs2476601_A 874\n",
        "http://bio2rdf.org/ra.challenge:rs1571878_T 804\n",
        "http://bio2rdf.org/ra.challenge:rs9653442_T 693\n",
        "http://bio2rdf.org/ra.challenge:rs508970_G 690\n",
        "http://bio2rdf.org/ra.challenge:rs331463_A 651\n",
        "http://bio2rdf.org/ra.challenge:rs706778_T 550\n",
        "http://bio2rdf.org/ra.challenge:rs657075_A 534\n",
        "http://bio2rdf.org/ra.challenge:rs10985070_C 525\n",
        "http://bio2rdf.org/ra.challenge:rs624988_T 524\n",
        "http://bio2rdf.org/ra.challenge:rs2671692_G 370\n",
        "http://bio2rdf.org/ra.challenge:rs7752903_G 214\n",
        "http://bio2rdf.org/ra.challenge:rs1893592_C 205\n",
        "http://bio2rdf.org/ra.challenge:rs11889341_T 167\n",
        "http://bio2rdf.org/ra.challenge:rs4239702_T 151\n",
        "http://bio2rdf.org/ra.challenge:rs4272_G 141\n",
        "http://bio2rdf.org/ra.challenge:rs1877030_T 68\n",
        "http://bio2rdf.org/ra.challenge:rs968567_T 57\n"
       ]
      }
     ],
     "prompt_number": 88
    },
    {
     "cell_type": "code",
     "collapsed": false,
     "input": [
      "### WARNING: this query does not terminate within a reasonable time! -- therefore commented out\n",
      "\n",
      "q = '''\n",
      "SELECT ?polymorphism_variant (COUNT(DISTINCT ?person) AS ?person_count) (COUNT(DISTINCT ?non_responding_person) AS ?non_responding_person_count) WHERE {\n",
      "?person <http://bio2rdf.org/ra.challenge_vocabulary:has-at-least-one> ?polymorphism_variant . \n",
      "OPTIONAL {\n",
      "  ?non_responding_person <http://bio2rdf.org/ra.challenge_vocabulary:has-at-least-one> ?polymorphism_variant ;\n",
      "          <http://bio2rdf.org/ra.challenge_vocabulary:non-responder> True\n",
      "         }\n",
      "}\n",
      "GROUP BY ?polymorphism_variant\n",
      "ORDER BY DESC(?count)\n",
      "'''\n",
      "\n",
      "'''\n",
      "count = 0\n",
      "for row in g.query(q):\n",
      "    print(row['polymorphism_variant'], row['person_count'], row['non_responding_person'])\n",
      "    count += 1\n",
      "'''"
     ],
     "language": "python",
     "metadata": {},
     "outputs": [
      {
       "metadata": {},
       "output_type": "pyout",
       "prompt_number": 89,
       "text": [
        "\"\\ncount = 0\\nfor row in g.query(q):\\n    print(row['polymorphism_variant'], row['person_count'], row['non_responding_person'])\\n    count += 1\\n\""
       ]
      }
     ],
     "prompt_number": 89
    },
    {
     "cell_type": "code",
     "collapsed": false,
     "input": [
      "q = '''\n",
      "SELECT ?polymorphism_variant (COUNT(DISTINCT ?person) AS ?count) WHERE {\n",
      "?person <http://bio2rdf.org/ra.challenge_vocabulary:has-two> ?polymorphism_variant . \n",
      "}\n",
      "GROUP BY ?polymorphism_variant\n",
      "ORDER BY DESC(?count)\n",
      "'''\n",
      "\n",
      "count = 0\n",
      "for row in g.query(q):\n",
      "    print(row['polymorphism_variant'], row['count'])\n",
      "    count += 1"
     ],
     "language": "python",
     "metadata": {},
     "outputs": [
      {
       "output_type": "stream",
       "stream": "stdout",
       "text": [
        "http://bio2rdf.org/ra.challenge:rs968567_C 2649\n",
        "http://bio2rdf.org/ra.challenge:rs1877030_C 2638\n",
        "http://bio2rdf.org/ra.challenge:rs4272_A 2565\n",
        "http://bio2rdf.org/ra.challenge:rs4239702_C 2555\n",
        "http://bio2rdf.org/ra.challenge:rs11889341_C 2539\n",
        "http://bio2rdf.org/ra.challenge:rs1893592_A 2501\n",
        "http://bio2rdf.org/ra.challenge:rs7752903_T 2492\n",
        "http://bio2rdf.org/ra.challenge:rs2671692_A 2336\n",
        "http://bio2rdf.org/ra.challenge:rs624988_C 2182\n",
        "http://bio2rdf.org/ra.challenge:rs10985070_A 2181\n",
        "http://bio2rdf.org/ra.challenge:rs657075_G 2172\n",
        "http://bio2rdf.org/ra.challenge:rs706778_C 2156\n",
        "http://bio2rdf.org/ra.challenge:rs331463_T 2055\n",
        "http://bio2rdf.org/ra.challenge:rs508970_A 2016\n",
        "http://bio2rdf.org/ra.challenge:rs9653442_C 2013\n",
        "http://bio2rdf.org/ra.challenge:rs1571878_C 1902\n",
        "http://bio2rdf.org/ra.challenge:rs2476601_G 1832\n",
        "http://bio2rdf.org/ra.challenge:rs227163_C 1781\n",
        "http://bio2rdf.org/ra.challenge:rs3087243_A 1723\n",
        "http://bio2rdf.org/ra.challenge:rs11574914_A 1537\n",
        "http://bio2rdf.org/ra.challenge:rs1980422_T 1507\n",
        "http://bio2rdf.org/ra.challenge:rs4656942_G 1500\n",
        "http://bio2rdf.org/ra.challenge:rs8032939_T 1449\n",
        "http://bio2rdf.org/ra.challenge:rs2451258_C 1437\n",
        "http://bio2rdf.org/ra.challenge:rs2301888_A 1384\n",
        "http://bio2rdf.org/ra.challenge:rs13330176_T 1318\n",
        "http://bio2rdf.org/ra.challenge:rs8032939_C 1192\n",
        "http://bio2rdf.org/ra.challenge:rs1980422_C 1188\n",
        "http://bio2rdf.org/ra.challenge:rs2301888_G 1144\n",
        "http://bio2rdf.org/ra.challenge:rs2451258_T 1136\n",
        "http://bio2rdf.org/ra.challenge:rs4656942_A 1091\n",
        "http://bio2rdf.org/ra.challenge:rs13330176_A 1019\n",
        "http://bio2rdf.org/ra.challenge:rs11574914_G 1001\n",
        "http://bio2rdf.org/ra.challenge:rs3087243_G 960\n",
        "http://bio2rdf.org/ra.challenge:rs227163_T 887\n",
        "http://bio2rdf.org/ra.challenge:rs2476601_A 842\n",
        "http://bio2rdf.org/ra.challenge:rs1571878_T 767\n",
        "http://bio2rdf.org/ra.challenge:rs9653442_T 691\n",
        "http://bio2rdf.org/ra.challenge:rs508970_G 677\n",
        "http://bio2rdf.org/ra.challenge:rs331463_A 601\n",
        "http://bio2rdf.org/ra.challenge:rs706778_T 544\n",
        "http://bio2rdf.org/ra.challenge:rs657075_A 525\n",
        "http://bio2rdf.org/ra.challenge:rs10985070_C 522\n",
        "http://bio2rdf.org/ra.challenge:rs624988_T 495\n",
        "http://bio2rdf.org/ra.challenge:rs2671692_G 339\n",
        "http://bio2rdf.org/ra.challenge:rs7752903_G 213\n",
        "http://bio2rdf.org/ra.challenge:rs1893592_C 151\n",
        "http://bio2rdf.org/ra.challenge:rs11889341_T 145\n",
        "http://bio2rdf.org/ra.challenge:rs4239702_T 138\n",
        "http://bio2rdf.org/ra.challenge:rs4272_G 119\n",
        "http://bio2rdf.org/ra.challenge:rs1877030_T 64\n",
        "http://bio2rdf.org/ra.challenge:rs968567_T 56\n"
       ]
      }
     ],
     "prompt_number": 90
    },
    {
     "cell_type": "code",
     "collapsed": false,
     "input": [
      "g.close()"
     ],
     "language": "python",
     "metadata": {},
     "outputs": []
    }
   ],
   "metadata": {}
  }
 ]
}