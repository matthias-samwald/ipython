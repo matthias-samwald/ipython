{
 "metadata": {
  "name": ""
 },
 "nbformat": 3,
 "nbformat_minor": 0,
 "worksheets": [
  {
   "cells": [
    {
     "cell_type": "code",
     "collapsed": false,
     "input": [
      "import rdflib\n",
      "import os\n",
      "from rdflib import URIRef, BNode, Literal\n",
      "from rdflib.namespace import Namespace, NamespaceManager, RDF, FOAF, RDFS, OWL\n",
      "from rdflib.plugins.sparql import prepareQuery\n",
      "import glob\n",
      "import urllib.parse as urlparse\n",
      "import urllib.request as urllib\n",
      "\n",
      "namespace_manager = NamespaceManager(rdflib.Graph())\n",
      "namespace_manager.bind('foaf', FOAF, override=False)\n",
      "namespace_manager.bind('sesame', Namespace('http://www.openrdf.org/schema/sesame#'), override=False)\n",
      "namespace_manager.bind('ra', Namespace('http://bio2rdf.org/ra.challenge_vocabulary:'), override=False)\n",
      "\n",
      "endpoint = 'http://localhost:8080/openrdf-sesame/repositories/synapse-challenge-2' # this is an RDF store (no inferencing)\n",
      "g = rdflib.ConjunctiveGraph('SPARQLUpdateStore', identifier='http://samwald.info/ont/') \n",
      "g.namespace_manager = namespace_manager\n",
      "\n",
      "g.open((endpoint, endpoint + '/statements')) # endpoint, SPARQL Update endpoint"
     ],
     "language": "python",
     "metadata": {},
     "outputs": [],
     "prompt_number": 15
    },
    {
     "cell_type": "code",
     "collapsed": false,
     "input": [
      "# clear repository\n",
      "q = \"DELETE WHERE { ?s ?p ?o . }\"\n",
      "g.update(q)"
     ],
     "language": "python",
     "metadata": {},
     "outputs": [],
     "prompt_number": 6
    },
    {
     "cell_type": "code",
     "collapsed": false,
     "input": [
      "for f in glob.glob('rheumatoid-arthritis/rdf-data/*.*'):\n",
      "    path =  os.path.realpath(f)\n",
      "    print('Loading', path)\n",
      "    # g.load(f, format=rdflib.util.guess_format(f))    # ... this turns out to be too slow, because rdflib parses everything\n",
      "    g.update(\"LOAD <\" +  urlparse.urljoin('file:', urllib.pathname2url(path)) + \"> INTO GRAPH <tag:samwald.info:base_data>\")    # this is much faster, yay!\n",
      "print('Finished loading.')"
     ],
     "language": "python",
     "metadata": {},
     "outputs": [
      {
       "output_type": "stream",
       "stream": "stdout",
       "text": [
        "Loading C:\\Users\\polygonfenster\\Documents\\Workspace\\ipython\\py\\rheumatoid-arthritis\\rdf-data\\dbsnp.nq\n",
        "Loading"
       ]
      },
      {
       "output_type": "stream",
       "stream": "stdout",
       "text": [
        " C:\\Users\\polygonfenster\\Documents\\Workspace\\ipython\\py\\rheumatoid-arthritis\\rdf-data\\drugbank2uniprot.ttl\n",
        "Loading C:\\Users\\polygonfenster\\Documents\\Workspace\\ipython\\py\\rheumatoid-arthritis\\rdf-data\\goa_subset.nq\n",
        "Loading"
       ]
      },
      {
       "output_type": "stream",
       "stream": "stdout",
       "text": [
        " C:\\Users\\polygonfenster\\Documents\\Workspace\\ipython\\py\\rheumatoid-arthritis\\rdf-data\\ra.cov.nt\n",
        "Loading"
       ]
      },
      {
       "output_type": "stream",
       "stream": "stdout",
       "text": [
        " C:\\Users\\polygonfenster\\Documents\\Workspace\\ipython\\py\\rheumatoid-arthritis\\rdf-data\\ra.dosage.1.nq\n",
        "Loading"
       ]
      },
      {
       "output_type": "stream",
       "stream": "stdout",
       "text": [
        " C:\\Users\\polygonfenster\\Documents\\Workspace\\ipython\\py\\rheumatoid-arthritis\\rdf-data\\ra.dosage.10.nq\n",
        "Loading"
       ]
      },
      {
       "output_type": "stream",
       "stream": "stdout",
       "text": [
        " C:\\Users\\polygonfenster\\Documents\\Workspace\\ipython\\py\\rheumatoid-arthritis\\rdf-data\\ra.dosage.11.nq\n",
        "Loading"
       ]
      },
      {
       "output_type": "stream",
       "stream": "stdout",
       "text": [
        " C:\\Users\\polygonfenster\\Documents\\Workspace\\ipython\\py\\rheumatoid-arthritis\\rdf-data\\ra.dosage.15.nq\n",
        "Loading"
       ]
      },
      {
       "output_type": "stream",
       "stream": "stdout",
       "text": [
        " C:\\Users\\polygonfenster\\Documents\\Workspace\\ipython\\py\\rheumatoid-arthritis\\rdf-data\\ra.dosage.16.nq\n",
        "Loading"
       ]
      },
      {
       "output_type": "stream",
       "stream": "stdout",
       "text": [
        " C:\\Users\\polygonfenster\\Documents\\Workspace\\ipython\\py\\rheumatoid-arthritis\\rdf-data\\ra.dosage.17.nq\n",
        "Loading"
       ]
      },
      {
       "output_type": "stream",
       "stream": "stdout",
       "text": [
        " C:\\Users\\polygonfenster\\Documents\\Workspace\\ipython\\py\\rheumatoid-arthritis\\rdf-data\\ra.dosage.2.nq\n",
        "Loading"
       ]
      },
      {
       "output_type": "stream",
       "stream": "stdout",
       "text": [
        " C:\\Users\\polygonfenster\\Documents\\Workspace\\ipython\\py\\rheumatoid-arthritis\\rdf-data\\ra.dosage.20.nq\n",
        "Loading"
       ]
      },
      {
       "output_type": "stream",
       "stream": "stdout",
       "text": [
        " C:\\Users\\polygonfenster\\Documents\\Workspace\\ipython\\py\\rheumatoid-arthritis\\rdf-data\\ra.dosage.21.nq\n",
        "Loading"
       ]
      },
      {
       "output_type": "stream",
       "stream": "stdout",
       "text": [
        " C:\\Users\\polygonfenster\\Documents\\Workspace\\ipython\\py\\rheumatoid-arthritis\\rdf-data\\ra.dosage.5.nq\n",
        "Loading"
       ]
      },
      {
       "output_type": "stream",
       "stream": "stdout",
       "text": [
        " C:\\Users\\polygonfenster\\Documents\\Workspace\\ipython\\py\\rheumatoid-arthritis\\rdf-data\\ra.dosage.6.nq\n",
        "Loading"
       ]
      },
      {
       "output_type": "stream",
       "stream": "stdout",
       "text": [
        " C:\\Users\\polygonfenster\\Documents\\Workspace\\ipython\\py\\rheumatoid-arthritis\\rdf-data\\ra.dosage.7.nq\n",
        "Loading"
       ]
      },
      {
       "output_type": "stream",
       "stream": "stdout",
       "text": [
        " C:\\Users\\polygonfenster\\Documents\\Workspace\\ipython\\py\\rheumatoid-arthritis\\rdf-data\\ra.dosage.9.nq\n",
        "Loading"
       ]
      },
      {
       "output_type": "stream",
       "stream": "stdout",
       "text": [
        " C:\\Users\\polygonfenster\\Documents\\Workspace\\ipython\\py\\rheumatoid-arthritis\\rdf-data\\ra.schema.ttl\n",
        "Loading C:\\Users\\polygonfenster\\Documents\\Workspace\\ipython\\py\\rheumatoid-arthritis\\rdf-data\\uniprot2go.ttl\n"
       ]
      }
     ],
     "prompt_number": 9
    },
    {
     "cell_type": "heading",
     "level": 2,
     "metadata": {},
     "source": [
      "Basic statistics"
     ]
    },
    {
     "cell_type": "heading",
     "level": 5,
     "metadata": {},
     "source": [
      "Property vs. total number of triples using the property"
     ]
    },
    {
     "cell_type": "code",
     "collapsed": false,
     "input": [
      "for row in g.query('SELECT ?p (COUNT(DISTINCT(?s)) AS ?count ) { ?s ?p ?o } GROUP BY ?p ORDER BY DESC(?count)'):\n",
      "    print(row['p'], row['count'])"
     ],
     "language": "python",
     "metadata": {},
     "outputs": [
      {
       "output_type": "stream",
       "stream": "stdout",
       "text": [
        "http://www.w3.org/1999/02/22-rdf-syntax-ns#type 7241\n",
        "http://purl.org/dc/terms/identifier 7220\n",
        "http://bio2rdf.org/bio2rdf_vocabulary:namespace 7220\n",
        "http://bio2rdf.org/bio2rdf_vocabulary:identifier 7220\n",
        "http://bio2rdf.org/bio2rdf_vocabulary:uri 7220\n",
        "http://rdfs.org/ns/void#inDataset 7220\n",
        "http://www.w3.org/2000/01/rdf-schema#label 5324\n",
        "http://bio2rdf.org/goa_vocabulary:target 2853\n",
        "http://bio2rdf.org/goa_vocabulary:go-term 2853\n",
        "http://bio2rdf.org/goa_vocabulary:evidence 2853\n",
        "http://bio2rdf.org/goa_vocabulary:go-category 2853\n",
        "http://bio2rdf.org/goa_vocabulary:assigned-by 2853\n",
        "http://bio2rdf.org/goa_vocabulary:entry-date 2853\n",
        "http://bio2rdf.org/ra.challenge_vocabulary:drug 2706\n",
        "http://bio2rdf.org/ra.challenge_vocabulary:age 2706\n",
        "http://bio2rdf.org/ra.challenge_vocabulary:gender 2706\n",
        "http://bio2rdf.org/ra.challenge_vocabulary:methotrexate-cotherapy 2706\n",
        "http://bio2rdf.org/ra.challenge_vocabulary:has-two 2706\n",
        "http://bio2rdf.org/ra.challenge_vocabulary:has-one 2706\n",
        "http://bio2rdf.org/ra.challenge_vocabulary:non-responder 2031\n",
        "http://bio2rdf.org/bio2rdf_vocabulary:x-identifiers.org 1487\n",
        "http://bio2rdf.org/goa_vocabulary:article 933\n",
        "http://bio2rdf.org/goa_vocabulary:symbol 341\n",
        "http://bio2rdf.org/goa_vocabulary:x-taxonomy 341\n",
        "http://bio2rdf.org/goa_vocabulary:synonym 341\n",
        "http://bio2rdf.org/goa_vocabulary:go-annotation 341\n",
        "http://bio2rdf.org/goa_vocabulary:function 230\n",
        "http://bio2rdf.org/goa_vocabulary:process 224\n",
        "http://bio2rdf.org/goa_vocabulary:component 92\n",
        "http://bio2rdf.org/dbsnp_vocabulary:gene 55\n",
        "http://bio2rdf.org/dbsnp_vocabulary:gene-symbol 55\n",
        "http://bio2rdf.org/dbsnp_vocabulary:mrna 55\n",
        "http://bio2rdf.org/dbsnp_vocabulary:fxn-class 55\n",
        "http://www.w3.org/1999/02/22-rdf-syntax-ns#first 37\n",
        "http://www.w3.org/1999/02/22-rdf-syntax-ns#rest 37\n",
        "http://www.w3.org/2000/01/rdf-schema#subClassOf 29\n",
        "http://bio2rdf.org/dbsnp_vocabulary:snp-class 25\n",
        "http://bio2rdf.org/dbsnp_vocabulary:mol-type 25\n",
        "http://bio2rdf.org/dbsnp_vocabulary:taxid 25\n",
        "http://bio2rdf.org/dbsnp_vocabulary:validation-by-cluster 25\n",
        "http://bio2rdf.org/dbsnp_vocabulary:validation-by-frequency 25\n",
        "http://bio2rdf.org/dbsnp_vocabulary:validation-by-1000G 25\n",
        "http://bio2rdf.org/dbsnp_vocabulary:hgvs-name 25\n",
        "http://bio2rdf.org/dbsnp_vocabulary:dbsnp-build 25\n",
        "http://bio2rdf.org/dbsnp_vocabulary:genome-build 25\n",
        "http://bio2rdf.org/dbsnp_vocabulary:contig-accession 25\n",
        "http://bio2rdf.org/dbsnp_vocabulary:contig-gi 25\n",
        "http://bio2rdf.org/dbsnp_vocabulary:chromosome 25\n",
        "http://bio2rdf.org/dbsnp_vocabulary:validation-by-2hit2allele 17\n",
        "http://bio2rdf.org/dbsnp_vocabulary:maps-to 16\n",
        "http://bio2rdf.org/dbsnp_vocabulary:allele 14\n",
        "http://bio2rdf.org/drugbank_vocabulary:target 11\n",
        "http://bio2rdf.org/dbsnp_vocabulary:protein 9\n",
        "http://bio2rdf.org/dbsnp_vocabulary:residue 9\n",
        "http://bio2rdf.org/dbsnp_vocabulary:reading-frame 9\n",
        "http://bio2rdf.org/dbsnp_vocabulary:position 9\n",
        "http://www.w3.org/2000/01/rdf-schema#range 5\n",
        "http://www.w3.org/2000/01/rdf-schema#domain 3\n",
        "http://www.w3.org/2000/01/rdf-schema#subPropertyOf 2\n",
        "http://www.w3.org/2002/07/owl#members 2\n",
        "http://www.w3.org/2002/07/owl#distinctMembers 2\n",
        "http://www.w3.org/2002/07/owl#propertyDisjointWith 1\n",
        "http://bio2rdf.org/goa_vocabulary:not-in-process 1\n",
        "http://www.w3.org/2002/07/owl#onProperty 1\n",
        "http://www.w3.org/2002/07/owl#someValuesFrom 1\n"
       ]
      }
     ],
     "prompt_number": 17
    },
    {
     "cell_type": "heading",
     "level": 5,
     "metadata": {},
     "source": [
      "Class vs. total number of instances of the class"
     ]
    },
    {
     "cell_type": "code",
     "collapsed": false,
     "input": [
      "for row in g.query('SELECT  ?class (COUNT(DISTINCT(?s)) AS ?count ) { ?s a ?class } GROUP BY ?class ORDER BY DESC(?count)'):\n",
      "    print(row['class'], row['count'])"
     ],
     "language": "python",
     "metadata": {},
     "outputs": [
      {
       "output_type": "stream",
       "stream": "stdout",
       "text": [
        "http://bio2rdf.org/goa_vocabulary:GO-Annotation 3194\n",
        "http://bio2rdf.org/goa_vocabulary:Resource 2872\n",
        "http://bio2rdf.org/ra.challenge_vocabulary:Resource 2761\n",
        "http://xmlns.com/foaf/0.1/Person 2031\n",
        "http://bio2rdf.org/go_vocabulary:Resource 647\n",
        "http://bio2rdf.org/uniprot_vocabulary:Resource 341\n",
        "http://bio2rdf.org/pubmed_vocabulary:Resource 277\n",
        "http://bio2rdf.org/dbsnp_vocabulary:Resource 110\n",
        "http://bio2rdf.org/taxonomy_vocabulary:Resource 92\n",
        "http://bio2rdf.org/dbsnp_vocabulary:fxnset 55\n",
        "http://bio2rdf.org/refseq_vocabulary:Resource 53\n",
        "http://www.w3.org/2002/07/owl#Class 30\n",
        "http://www.w3.org/2002/07/owl#ObjectProperty 25\n",
        "http://bio2rdf.org/dbsnp_vocabulary:snp 25\n",
        "http://www.w3.org/2002/07/owl#DatatypeProperty 21\n",
        "http://bio2rdf.org/ncbigene_vocabulary:Resource 17\n",
        "http://bio2rdf.org/genbank_vocabulary:Resource 16\n",
        "http://bio2rdf.org/gi_vocabulary:Resource 16\n",
        "http://bio2rdf.org/eco_vocabulary:Resource 15\n",
        "http://www.w3.org/2002/07/owl#NamedIndividual 5\n",
        "http://bio2rdf.org/ra.challenge:Drug 4\n",
        "http://bio2rdf.org/dbsnp:rs227163 2\n",
        "http://bio2rdf.org/dbsnp:rs2301888 2\n",
        "http://bio2rdf.org/dbsnp:rs2476601 2\n",
        "http://bio2rdf.org/dbsnp:rs624988 2\n",
        "http://bio2rdf.org/dbsnp:rs4656942 2\n",
        "http://bio2rdf.org/dbsnp:rs706778 2\n",
        "http://bio2rdf.org/dbsnp:rs2671692 2\n",
        "http://bio2rdf.org/dbsnp:rs331463 2\n",
        "http://bio2rdf.org/dbsnp:rs508970 2\n",
        "http://bio2rdf.org/dbsnp:rs968567 2\n",
        "http://bio2rdf.org/dbsnp:rs8032939 2\n",
        "http://bio2rdf.org/dbsnp:rs13330176 2\n",
        "http://bio2rdf.org/dbsnp:rs1877030 2\n",
        "http://bio2rdf.org/dbsnp:rs9653442 2\n",
        "http://bio2rdf.org/dbsnp:rs11889341 2\n",
        "http://bio2rdf.org/dbsnp:rs1980422 2\n",
        "http://bio2rdf.org/dbsnp:rs3087243 2\n",
        "http://bio2rdf.org/dbsnp:rs4239702 2\n",
        "http://bio2rdf.org/dbsnp:rs1893592 2\n",
        "http://bio2rdf.org/dbsnp:rs657075 2\n",
        "http://bio2rdf.org/dbsnp:rs7752903 2\n",
        "http://bio2rdf.org/dbsnp:rs2451258 2\n",
        "http://bio2rdf.org/dbsnp:rs1571878 2\n",
        "http://bio2rdf.org/dbsnp:rs4272 2\n",
        "http://bio2rdf.org/dbsnp:rs11574914 2\n",
        "http://bio2rdf.org/dbsnp:rs10985070 2\n",
        "http://bio2rdf.org/ra.challenge_vocabulary:Gender 2\n",
        "http://www.w3.org/2002/07/owl#AllDisjointClasses 2\n",
        "http://www.w3.org/2002/07/owl#AllDifferent 2\n",
        "http://bio2rdf.org/rdfs_vocabulary:Resource 2\n",
        "http://www.w3.org/2002/07/owl#Ontology 1\n",
        "http://www.w3.org/2002/07/owl#Restriction 1\n",
        "http://bio2rdf.org/rdf_vocabulary:Resource 1\n"
       ]
      }
     ],
     "prompt_number": 18
    },
    {
     "cell_type": "heading",
     "level": 5,
     "metadata": {},
     "source": [
      "Total number of persons; non-responder status: true, false, data missing"
     ]
    },
    {
     "cell_type": "code",
     "collapsed": false,
     "input": [
      "for row in g.query('SELECT (COUNT(DISTINCT ?person) as ?count) WHERE { ?person a foaf:Person . }'):\n",
      "    number_of_persons = int(row['count'])\n",
      "\n",
      "print (number_of_persons, 'persons in total')\n",
      "    \n",
      "    \n",
      "q = '''\\\n",
      "SELECT (COUNT(DISTINCT ?person) as ?count) ?non_responder WHERE {\n",
      "?person a foaf:Person . \n",
      "   OPTIONAL { ?person ra:non-responder ?non_responder . }\n",
      "}\n",
      "GROUP BY ?non_responder\n",
      "'''\n",
      "\n",
      "for row in g.query(q):\n",
      "    print(row['count'], 'persons with non-responder status', row['non_responder'], \n",
      "          '(', '{0:.0%}'.format(int(row['count']) / number_of_persons), ')')\n",
      "    if str(row['non_responder']) == 'true':\n",
      "        number_of_non_responders = int(row['count'])\n",
      "    if str(row['non_responder']) == 'false':\n",
      "        number_of_responders = int(row['count'])"
     ],
     "language": "python",
     "metadata": {},
     "outputs": [
      {
       "output_type": "stream",
       "stream": "stdout",
       "text": [
        "2031 persons in total\n",
        "436"
       ]
      },
      {
       "output_type": "stream",
       "stream": "stdout",
       "text": [
        " persons with non-responder status true ( 21% )\n",
        "1595 persons with non-responder status false ( 79% )\n"
       ]
      }
     ],
     "prompt_number": 19
    },
    {
     "cell_type": "heading",
     "level": 5,
     "metadata": {},
     "source": [
      "Polymorphisms we are representing in the ontology"
     ]
    },
    {
     "cell_type": "code",
     "collapsed": false,
     "input": [
      "q = '''SELECT DISTINCT ?polymorphism WHERE {\n",
      "?polymorphism rdfs:subClassOf ra:Polymorphism .\n",
      "}'''\n",
      "\n",
      "count = 0\n",
      "for row in g.query(q):\n",
      "    print(row['polymorphism'])\n",
      "    count += 1\n",
      "print(count, \"polymorphisms in total\")"
     ],
     "language": "python",
     "metadata": {},
     "outputs": [
      {
       "output_type": "stream",
       "stream": "stdout",
       "text": [
        "http://bio2rdf.org/dbsnp:rs227163\n",
        "http://bio2rdf.org/dbsnp:rs2301888\n",
        "http://bio2rdf.org/dbsnp:rs2476601\n",
        "http://bio2rdf.org/dbsnp:rs624988\n",
        "http://bio2rdf.org/dbsnp:rs4656942\n",
        "http://bio2rdf.org/dbsnp:rs706778\n",
        "http://bio2rdf.org/dbsnp:rs2671692\n",
        "http://bio2rdf.org/dbsnp:rs331463\n",
        "http://bio2rdf.org/dbsnp:rs508970\n",
        "http://bio2rdf.org/dbsnp:rs968567\n",
        "http://bio2rdf.org/dbsnp:rs8032939\n",
        "http://bio2rdf.org/dbsnp:rs13330176\n",
        "http://bio2rdf.org/dbsnp:rs1877030\n",
        "http://bio2rdf.org/dbsnp:rs9653442\n",
        "http://bio2rdf.org/dbsnp:rs11889341\n",
        "http://bio2rdf.org/dbsnp:rs1980422\n",
        "http://bio2rdf.org/dbsnp:rs3087243\n",
        "http://bio2rdf.org/dbsnp:rs4239702\n",
        "http://bio2rdf.org/dbsnp:rs1893592\n",
        "http://bio2rdf.org/dbsnp:rs657075\n",
        "http://bio2rdf.org/dbsnp:rs7752903\n",
        "http://bio2rdf.org/dbsnp:rs2451258\n",
        "http://bio2rdf.org/dbsnp:rs1571878\n",
        "http://bio2rdf.org/dbsnp:rs4272\n",
        "http://bio2rdf.org/dbsnp:rs11574914\n",
        "http://bio2rdf.org/dbsnp:rs10985070\n",
        "26 polymorphisms in total\n"
       ]
      }
     ],
     "prompt_number": 20
    },
    {
     "cell_type": "heading",
     "level": 2,
     "metadata": {},
     "source": [
      "Genetic data in detail"
     ]
    },
    {
     "cell_type": "heading",
     "level": 5,
     "metadata": {},
     "source": [
      "Create data on polymorphism variant counts in graph <tag:samwald.info:polymorphism_variant_counts>"
     ]
    },
    {
     "cell_type": "code",
     "collapsed": false,
     "input": [
      "q = '''\n",
      "INSERT { \n",
      "    GRAPH <tag:samwald.info:polymorphism_variant_counts> { \n",
      "        ?polymorphism_variant ra:count ?count .\n",
      "    }\n",
      "}\n",
      "WHERE {\n",
      "    SELECT ?polymorphism_variant (COUNT(DISTINCT ?person) AS ?count) WHERE {\n",
      "        ?person ra:has-one | ra:has-two ?polymorphism_variant .\n",
      "    } \n",
      "    GROUP BY ?polymorphism_variant\n",
      "}\n",
      "'''\n",
      "\n",
      "g.update(q)"
     ],
     "language": "python",
     "metadata": {},
     "outputs": [],
     "prompt_number": 21
    },
    {
     "cell_type": "heading",
     "level": 5,
     "metadata": {},
     "source": [
      "Let's see the major and minor variants for each polymorphism (together with counts of how many patients have at least one such variant)"
     ]
    },
    {
     "cell_type": "code",
     "collapsed": false,
     "input": [
      "q = '''\\\n",
      "SELECT DISTINCT ?polymorphism_variant_major ?count_major ?polymorphism_variant_minor ?count_minor\n",
      "WHERE {\n",
      "    ?polymorphism rdfs:subClassOf ra:Polymorphism .\n",
      "    ?polymorphism_variant_major a ?polymorphism ;\n",
      "        ra:count ?count_major .\n",
      "    ?polymorphism_variant_minor a ?polymorphism ;\n",
      "        ra:count ?count_minor .\n",
      "        \n",
      "    FILTER(!sameTerm(?polymorphism_variant_major, ?polymorphism_variant_minor) && ?count_major > ?count_minor)\n",
      "}\n",
      "ORDER BY DESC(?count_major)\n",
      "'''\n",
      "\n",
      "count = 0\n",
      "for row in g.query(q):\n",
      "    print(row.polymorphism_variant_major, row.count_major, row.polymorphism_variant_minor, row.count_minor)\n",
      "    count += 1"
     ],
     "language": "python",
     "metadata": {},
     "outputs": [
      {
       "output_type": "stream",
       "stream": "stdout",
       "text": [
        "http://bio2rdf.org/ra.challenge:rs7752903_T 2699 http://bio2rdf.org/ra.challenge:rs7752903_G 212\n",
        "http://bio2rdf.org/ra.challenge:rs657075_G 2660 http://bio2rdf.org/ra.challenge:rs657075_A 521\n",
        "http://bio2rdf.org/ra.challenge:rs331463_T 2622 http://bio2rdf.org/ra.challenge:rs331463_A 598\n",
        "http://bio2rdf.org/ra.challenge:rs1877030_C 2622 http://bio2rdf.org/ra.challenge:rs1877030_T 750\n",
        "http://bio2rdf.org/ra.challenge:rs2476601_G 2596 http://bio2rdf.org/ra.challenge:rs2476601_A 842\n",
        "http://bio2rdf.org/ra.challenge:rs968567_C 2587 http://bio2rdf.org/ra.challenge:rs968567_T 728\n",
        "http://bio2rdf.org/ra.challenge:rs1980422_T 2518 http://bio2rdf.org/ra.challenge:rs1980422_C 1185\n",
        "http://bio2rdf.org/ra.challenge:rs4239702_C 2501 http://bio2rdf.org/ra.challenge:rs4239702_T 1129\n",
        "http://bio2rdf.org/ra.challenge:rs11889341_C 2468 http://bio2rdf.org/ra.challenge:rs11889341_T 1092\n",
        "http://bio2rdf.org/ra.challenge:rs4272_A 2450 http://bio2rdf.org/ra.challenge:rs4272_G 1011\n",
        "http://bio2rdf.org/ra.challenge:rs8032939_T 2444 http://bio2rdf.org/ra.challenge:rs8032939_C 1166\n",
        "http://bio2rdf.org/ra.challenge:rs4656942_G 2425 http://bio2rdf.org/ra.challenge:rs4656942_A 1060\n",
        "http://bio2rdf.org/ra.challenge:rs2671692_A 2297 http://bio2rdf.org/ra.challenge:rs2671692_G 1529\n",
        "http://bio2rdf.org/ra.challenge:rs1893592_A 2267 http://bio2rdf.org/ra.challenge:rs1893592_C 1072\n",
        "http://bio2rdf.org/ra.challenge:rs2301888_G 2254 http://bio2rdf.org/ra.challenge:rs2301888_A 1323\n",
        "http://bio2rdf.org/ra.challenge:rs3087243_G 2246 http://bio2rdf.org/ra.challenge:rs3087243_A 1719\n",
        "http://bio2rdf.org/ra.challenge:rs2451258_T 2223 http://bio2rdf.org/ra.challenge:rs2451258_C 1370\n",
        "http://bio2rdf.org/ra.challenge:rs227163_T 2197 http://bio2rdf.org/ra.challenge:rs227163_C 1761\n",
        "http://bio2rdf.org/ra.challenge:rs10985070_A 2176 http://bio2rdf.org/ra.challenge:rs10985070_C 1869\n",
        "http://bio2rdf.org/ra.challenge:rs11574914_G 2163 http://bio2rdf.org/ra.challenge:rs11574914_A 1469\n",
        "http://bio2rdf.org/ra.challenge:rs706778_C 2146 http://bio2rdf.org/ra.challenge:rs706778_T 1869\n",
        "http://bio2rdf.org/ra.challenge:rs624988_C 2126 http://bio2rdf.org/ra.challenge:rs624988_T 1769\n",
        "http://bio2rdf.org/ra.challenge:rs13330176_T 2119 http://bio2rdf.org/ra.challenge:rs13330176_A 923\n",
        "http://bio2rdf.org/ra.challenge:rs9653442_T 2104 http://bio2rdf.org/ra.challenge:rs9653442_C 2008\n",
        "http://bio2rdf.org/ra.challenge:rs1571878_T 2100 http://bio2rdf.org/ra.challenge:rs1571878_C 1884\n",
        "http://bio2rdf.org/ra.challenge:rs508970_A 2007 http://bio2rdf.org/ra.challenge:rs508970_G 2005\n"
       ]
      }
     ],
     "prompt_number": 22
    },
    {
     "cell_type": "heading",
     "level": 5,
     "metadata": {},
     "source": [
      "This is cool, let's also reflect this in the RDF by inferring ra:major_variant and ra:minor_variant types and adding those to the graph"
     ]
    },
    {
     "cell_type": "code",
     "collapsed": false,
     "input": [
      "q = '''\\\n",
      "\n",
      "INSERT { \n",
      "    GRAPH <tag:samwald.info:polymorphism_variant_counts> {\n",
      "        ?polymorphism_variant_major a ra:major_variant .\n",
      "        ?polymorphism_variant_minor a ra:minor_variant .\n",
      "    }\n",
      "} WHERE {\n",
      "SELECT DISTINCT ?polymorphism_variant_major ?count_major ?polymorphism_variant_minor ?count_minor\n",
      "WHERE {\n",
      "    ?polymorphism rdfs:subClassOf ra:Polymorphism .\n",
      "    ?polymorphism_variant_major a ?polymorphism ;\n",
      "        ra:count ?count_major .\n",
      "    ?polymorphism_variant_minor a ?polymorphism ;\n",
      "        ra:count ?count_minor .\n",
      "        \n",
      "    FILTER(!sameTerm(?polymorphism_variant_major, ?polymorphism_variant_minor) && ?count_major > ?count_minor)\n",
      "}\n",
      "}'''\n",
      "\n",
      "g.update(q)"
     ],
     "language": "python",
     "metadata": {},
     "outputs": [],
     "prompt_number": 24
    },
    {
     "cell_type": "heading",
     "level": 5,
     "metadata": {},
     "source": [
      "Number of patients with homozygous minor variants"
     ]
    },
    {
     "cell_type": "code",
     "collapsed": false,
     "input": [
      "q = '''\\\n",
      "SELECT ?polymorphism_variant (COUNT(DISTINCT ?person) AS ?count) WHERE {\n",
      "        ?person ra:has-two ?polymorphism_variant .\n",
      "        ?polymorphism_variant a ra:minor_variant .\n",
      "    } \n",
      "GROUP BY ?polymorphism_variant\n",
      "ORDER BY DESC(?count)\n",
      "'''\n",
      "\n",
      "for row in g.query(q):\n",
      "    print(row['polymorphism_variant'], row['count'])"
     ],
     "language": "python",
     "metadata": {},
     "outputs": [
      {
       "output_type": "stream",
       "stream": "stdout",
       "text": [
        "http://bio2rdf.org/ra.challenge:rs508970_G 677\n",
        "http://bio2rdf.org/ra.challenge:rs9653442_C 595\n",
        "http://bio2rdf.org/ra.challenge:rs1571878_C 551\n",
        "http://bio2rdf.org/ra.challenge:rs706778_T 544\n",
        "http://bio2rdf.org/ra.challenge:rs10985070_C 522\n",
        "http://bio2rdf.org/ra.challenge:rs624988_T 495\n",
        "http://bio2rdf.org/ra.challenge:rs227163_C 451\n",
        "http://bio2rdf.org/ra.challenge:rs3087243_A 433\n",
        "http://bio2rdf.org/ra.challenge:rs2671692_G 339\n",
        "http://bio2rdf.org/ra.challenge:rs11574914_A 307\n",
        "http://bio2rdf.org/ra.challenge:rs2451258_C 283\n",
        "http://bio2rdf.org/ra.challenge:rs2301888_A 213\n",
        "http://bio2rdf.org/ra.challenge:rs1980422_C 174\n",
        "http://bio2rdf.org/ra.challenge:rs8032939_C 171\n",
        "http://bio2rdf.org/ra.challenge:rs1893592_C 151\n",
        "http://bio2rdf.org/ra.challenge:rs11889341_T 145\n",
        "http://bio2rdf.org/ra.challenge:rs4239702_T 138\n",
        "http://bio2rdf.org/ra.challenge:rs4656942_A 135\n",
        "http://bio2rdf.org/ra.challenge:rs13330176_A 122\n",
        "http://bio2rdf.org/ra.challenge:rs4272_G 119\n",
        "http://bio2rdf.org/ra.challenge:rs2476601_A 78\n",
        "http://bio2rdf.org/ra.challenge:rs1877030_T 64\n",
        "http://bio2rdf.org/ra.challenge:rs968567_T 56\n",
        "http://bio2rdf.org/ra.challenge:rs657075_A 33\n",
        "http://bio2rdf.org/ra.challenge:rs331463_A 31\n",
        "http://bio2rdf.org/ra.challenge:rs7752903_G 5\n"
       ]
      }
     ],
     "prompt_number": 25
    },
    {
     "cell_type": "heading",
     "level": 5,
     "metadata": {},
     "source": [
      "For each minor variant, show the number and percentage of responders vs. non-responders that are homozygous for that variant"
     ]
    },
    {
     "cell_type": "code",
     "collapsed": false,
     "input": [
      "q = '''\\\n",
      "SELECT ?polymorphism_variant (COUNT(DISTINCT ?responder) AS ?responder_count)(COUNT(DISTINCT ?non_responder) AS ?non_responder_count) WHERE {\n",
      "?polymorphism_variant a ra:minor_variant .\n",
      "    OPTIONAL {\n",
      "        ?responder ra:has-two ?polymorphism_variant .\n",
      "        ?responder ra:non-responder false . \n",
      "    }\n",
      "    OPTIONAL {\n",
      "        ?non_responder ra:has-two ?polymorphism_variant .\n",
      "        ?non_responder ra:non-responder true .\n",
      "    }\n",
      "} \n",
      "GROUP BY ?polymorphism_variant\n",
      "ORDER BY DESC(?non_responder_count)\n",
      "'''\n",
      "\n",
      "for row in g.query(q):\n",
      "    print(row.polymorphism_variant, \n",
      "          row.responder_count, \n",
      "          '{0:.0%}'.format(int(row.responder_count) / number_of_responders), \n",
      "          row.non_responder_count, \n",
      "          '{0:.0%}'.format(int(row.non_responder_count) / number_of_non_responders))"
     ],
     "language": "python",
     "metadata": {},
     "outputs": [
      {
       "output_type": "stream",
       "stream": "stdout",
       "text": [
        "http://bio2rdf.org/ra.challenge:rs508970_G 380 24% 107 25%\n",
        "http://bio2rdf.org/ra.challenge:rs9653442_C 349 22% 106 24%\n",
        "http://bio2rdf.org/ra.challenge:rs706778_T 303 19% 96 22%\n",
        "http://bio2rdf.org/ra.challenge:rs1571878_C 332 21% 88 20%\n",
        "http://bio2rdf.org/ra.challenge:rs10985070_C 311 19% 85 19%\n",
        "http://bio2rdf.org/ra.challenge:rs227163_C 275 17% 74 17%\n",
        "http://bio2rdf.org/ra.challenge:rs624988_T 288 18% 73 17%\n",
        "http://bio2rdf.org/ra.challenge:rs3087243_A 265 17% 69 16%\n",
        "http://bio2rdf.org/ra.challenge:rs2671692_G 203 13% 55 13%\n",
        "http://bio2rdf.org/ra.challenge:rs11574914_A 184 12% 50 11%\n",
        "http://bio2rdf.org/ra.challenge:rs2451258_C 150 9% 48 11%\n",
        "http://bio2rdf.org/ra.challenge:rs1893592_C 86 5% 31 7%\n",
        "http://bio2rdf.org/ra.challenge:rs4239702_T 72 5% 29 7%\n",
        "http://bio2rdf.org/ra.challenge:rs2301888_A 134 8% 28 6%\n",
        "http://bio2rdf.org/ra.challenge:rs4656942_A 80 5% 26 6%\n",
        "http://bio2rdf.org/ra.challenge:rs1980422_C 109 7% 25 6%\n",
        "http://bio2rdf.org/ra.challenge:rs13330176_A 74 5% 21 5%\n",
        "http://bio2rdf.org/ra.challenge:rs11889341_T 95 6% 21 5%\n",
        "http://bio2rdf.org/ra.challenge:rs8032939_C 104 7% 19 4%\n",
        "http://bio2rdf.org/ra.challenge:rs4272_G 75 5% 12 3%\n",
        "http://bio2rdf.org/ra.challenge:rs2476601_A 47 3% 11 3%\n",
        "http://bio2rdf.org/ra.challenge:rs968567_T 32 2% 9 2%\n",
        "http://bio2rdf.org/ra.challenge:rs657075_A 18 1% 8 2%\n",
        "http://bio2rdf.org/ra.challenge:rs331463_A 16 1% 5 1%\n",
        "http://bio2rdf.org/ra.challenge:rs1877030_T 38 2% 5 1%\n",
        "http://bio2rdf.org/ra.challenge:rs7752903_G 1 0% 0 0%\n"
       ]
      }
     ],
     "prompt_number": 26
    },
    {
     "cell_type": "heading",
     "level": 5,
     "metadata": {},
     "source": [
      "This is quite inconclusive. In total per patient, do non-responders have more 'minor variants' than responders? (again we are only comparing homozygous cases, based on the assumption that this is where we could see the strongest effect)"
     ]
    },
    {
     "cell_type": "code",
     "collapsed": false,
     "input": [
      "q = '''\\\n",
      "SELECT (COUNT(DISTINCT ?person) as ?person_count) (COUNT(?polymorphism_variant) as ?number_of_total_homozygous_minor_variant_genotypes) ?non_responder WHERE {\n",
      "    ?person ra:non-responder ?non_responder ;\n",
      "        ra:has-two ?polymorphism_variant .\n",
      "    ?polymorphism_variant a ra:minor_variant .\n",
      "}\n",
      "GROUP BY ?non_responder\n",
      "'''\n",
      "\n",
      "for row in g.query(q):\n",
      "    print('There are', row.person_count, 'persons with non_responder status', \n",
      "          row.non_responder, 'with a population-wide total of', row.number_of_total_homozygous_minor_variant_genotypes,\n",
      "          'homozygous minor variant genotypes --', '{0:.2f}'.format(int(row.number_of_total_homozygous_minor_variant_genotypes) / int(row.person_count)), 'per person')"
     ],
     "language": "python",
     "metadata": {},
     "outputs": [
      {
       "output_type": "stream",
       "stream": "stdout",
       "text": [
        "There are 407 persons with non_responder status true with a population-wide total of 1101 homozygous minor variant genotypes -- 2.71 per person\n",
        "There are 1486 persons with non_responder status false with a population-wide total of 4021 homozygous minor variant genotypes -- 2.71 per person\n"
       ]
      }
     ],
     "prompt_number": 29
    },
    {
     "cell_type": "code",
     "collapsed": false,
     "input": [
      "g.close()"
     ],
     "language": "python",
     "metadata": {},
     "outputs": []
    }
   ],
   "metadata": {}
  }
 ]
}